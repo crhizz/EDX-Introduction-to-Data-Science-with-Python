{
 "cells": [
  {
   "cell_type": "markdown",
   "id": "ce52fc2b-9a1b-4a93-a0a5-91d6a3e88419",
   "metadata": {},
   "source": [
    "# PRE READING"
   ]
  },
  {
   "cell_type": "markdown",
   "id": "2705602f-6597-448c-9227-df47557ed259",
   "metadata": {},
   "source": [
    "### In An Introduction to Statistical Learning External link 2nd Edition, read the following sections:\n",
    "\n",
    "### 3.1.2 - Assessing the Accuracy of the Coefficient Estimates (pg. 63-68)\n",
    "### 3.1.3 - Assessing the Accuracy of the Model (pg. 68-71)"
   ]
  },
  {
   "cell_type": "markdown",
   "id": "0c5673ec-e82c-4def-9179-8da0545ea0f1",
   "metadata": {},
   "source": [
    "# Exercise: Beta Values for Data from Random Universe"
   ]
  },
  {
   "cell_type": "code",
   "execution_count": 1,
   "id": "1a6ad76c-fa93-4c1f-b6ea-54b5d7714984",
   "metadata": {},
   "outputs": [],
   "source": [
    "def RandomUniverse(df):\n",
    "    df_bootstrap = df.sample(200, replace = True)\n",
    "    return df_bootstrap"
   ]
  },
  {
   "cell_type": "code",
   "execution_count": 2,
   "id": "3b699b4d-28b0-4973-a8f7-fd2d067cd7fe",
   "metadata": {},
   "outputs": [],
   "source": [
    "# Import necessary libraries\n",
    "import numpy as np\n",
    "import pandas as pd\n",
    "import matplotlib.pyplot as plt\n",
    "# from randomuniverse import RandomUniverse\n",
    "%matplotlib inline\n"
   ]
  },
  {
   "cell_type": "code",
   "execution_count": 3,
   "id": "3aad05be-01d7-4794-83f2-f11c0fec60ff",
   "metadata": {},
   "outputs": [
    {
     "data": {
      "text/html": [
       "<div>\n",
       "<style scoped>\n",
       "    .dataframe tbody tr th:only-of-type {\n",
       "        vertical-align: middle;\n",
       "    }\n",
       "\n",
       "    .dataframe tbody tr th {\n",
       "        vertical-align: top;\n",
       "    }\n",
       "\n",
       "    .dataframe thead th {\n",
       "        text-align: right;\n",
       "    }\n",
       "</style>\n",
       "<table border=\"1\" class=\"dataframe\">\n",
       "  <thead>\n",
       "    <tr style=\"text-align: right;\">\n",
       "      <th></th>\n",
       "      <th>tv</th>\n",
       "      <th>sales</th>\n",
       "    </tr>\n",
       "  </thead>\n",
       "  <tbody>\n",
       "    <tr>\n",
       "      <th>0</th>\n",
       "      <td>230.1</td>\n",
       "      <td>465.26</td>\n",
       "    </tr>\n",
       "    <tr>\n",
       "      <th>1</th>\n",
       "      <td>44.5</td>\n",
       "      <td>218.95</td>\n",
       "    </tr>\n",
       "    <tr>\n",
       "      <th>2</th>\n",
       "      <td>17.2</td>\n",
       "      <td>195.79</td>\n",
       "    </tr>\n",
       "    <tr>\n",
       "      <th>3</th>\n",
       "      <td>151.5</td>\n",
       "      <td>389.47</td>\n",
       "    </tr>\n",
       "    <tr>\n",
       "      <th>4</th>\n",
       "      <td>180.8</td>\n",
       "      <td>271.58</td>\n",
       "    </tr>\n",
       "  </tbody>\n",
       "</table>\n",
       "</div>"
      ],
      "text/plain": [
       "      tv   sales\n",
       "0  230.1  465.26\n",
       "1   44.5  218.95\n",
       "2   17.2  195.79\n",
       "3  151.5  389.47\n",
       "4  180.8  271.58"
      ]
     },
     "execution_count": 3,
     "metadata": {},
     "output_type": "execute_result"
    }
   ],
   "source": [
    "# Read the advertising dataset as a pandas dataframe\n",
    "df = pd.read_csv('Advertising_adj.csv')\n",
    "\n",
    "# Take a quick look at the dataframe\n",
    "df.head()\n"
   ]
  },
  {
   "cell_type": "code",
   "execution_count": 4,
   "id": "46b55f03-8f7b-46b1-9ff2-c6b4438bfcd7",
   "metadata": {},
   "outputs": [
    {
     "data": {
      "text/plain": [
       "(200, 2)"
      ]
     },
     "execution_count": 4,
     "metadata": {},
     "output_type": "execute_result"
    }
   ],
   "source": [
    "df.shape"
   ]
  },
  {
   "cell_type": "code",
   "execution_count": 5,
   "id": "00b25d8c-8075-4d86-af83-7d8f4340535e",
   "metadata": {},
   "outputs": [],
   "source": [
    "# Create two empty lists that will store the beta values\n",
    "beta0_list, beta1_list = [],[]\n",
    "\n",
    "# Choose the number of \"parallel\" Universes to generate \n",
    "# that many new versions of the dataset\n",
    "parallelUniverses = 100\n",
    "\n",
    "# Loop over the maximum number of parallel Universes\n",
    "for i in range(parallelUniverses):\n",
    "\n",
    "    # Call the RandomUniverse helper function with the dataframe\n",
    "    # read from the data file\n",
    "    df_new = RandomUniverse(df)\n",
    "\n",
    "    # Find the mean of the predictor values i.e. tv\n",
    "    xmean = df_new.tv.mean()\n",
    "\n",
    "    # Find the mean of the response values i.e. sales\n",
    "    ymean = df_new.sales.mean()\n",
    "\n",
    "    # Compute the analytical values of beta0 and beta1 using the \n",
    "    # equation given in the hints\n",
    "    beta1 = np.sum((df_new.tv-xmean) * (df_new.sales-ymean)) / np.sum((df_new.tv-xmean)**2)\n",
    "    beta0 = ymean - beta1*xmean\n",
    "\n",
    "    # Append the calculated values of beta1 and beta0 to the appropriate lists\n",
    "    beta0_list.append(beta0)\n",
    "    beta1_list.append(beta1)\n"
   ]
  },
  {
   "cell_type": "code",
   "execution_count": 6,
   "id": "1e8b54b0-8479-4590-bd7b-68406ba06d93",
   "metadata": {},
   "outputs": [
    {
     "name": "stdout",
     "output_type": "stream",
     "text": [
      "148.14911761559085\n",
      "1.0073166214054594\n"
     ]
    }
   ],
   "source": [
    "### edTest(test_beta) ###\n",
    "\n",
    "# Compute the mean of the beta values\n",
    "beta0_mean = np.mean(beta0_list)\n",
    "beta1_mean = np.mean(beta1_list)\n",
    "print(beta0_mean)\n",
    "print(beta1_mean)"
   ]
  },
  {
   "cell_type": "code",
   "execution_count": 7,
   "id": "5eb48ced-b74d-4448-b65b-370bd694676a",
   "metadata": {},
   "outputs": [
    {
     "data": {
      "image/png": "[encoded data removed]",
      "text/plain": [
       "<Figure size 1800x800 with 2 Axes>"
      ]
     },
     "metadata": {},
     "output_type": "display_data"
    }
   ],
   "source": [
    "# Plot histograms of beta_0 and beta_1 using lists created above \n",
    "fig, ax = plt.subplots(1,2, figsize=(18,8))\n",
    "ax[0].hist(beta0_list)\n",
    "ax[1].hist(beta1_list)\n",
    "ax[0].set_xlabel('Beta 0')\n",
    "ax[1].set_xlabel('Beta 1')\n",
    "ax[0].set_ylabel('Frequency');\n"
   ]
  },
  {
   "cell_type": "markdown",
   "id": "0b50d21b-e411-4317-b862-5d2ff7597992",
   "metadata": {},
   "source": [
    "# Exercise: Beta values for Data from Random Universe using Bootstrap"
   ]
  },
  {
   "cell_type": "code",
   "execution_count": 8,
   "id": "983ba78d-64c8-4aab-86fd-eb052fa8ac2d",
   "metadata": {},
   "outputs": [],
   "source": [
    "def RandomUniverse(df):\n",
    "    df_bootstrap = df.sample(len(df), replace = True)\n",
    "    return df_bootstrap"
   ]
  },
  {
   "cell_type": "code",
   "execution_count": 9,
   "id": "c3634ae6-bb8b-4f07-9695-80ef8c733ad5",
   "metadata": {},
   "outputs": [],
   "source": [
    "# Import necessary libraries\n",
    "import pandas as pd\n",
    "import numpy as np\n",
    "import matplotlib.pyplot as plt\n",
    "# from randomuniverse import RandomUniverse\n",
    "%matplotlib inline\n"
   ]
  },
  {
   "cell_type": "code",
   "execution_count": 10,
   "id": "3677b74c-14a8-4fd1-8b1a-39635508eba7",
   "metadata": {},
   "outputs": [
    {
     "data": {
      "text/html": [
       "<div>\n",
       "<style scoped>\n",
       "    .dataframe tbody tr th:only-of-type {\n",
       "        vertical-align: middle;\n",
       "    }\n",
       "\n",
       "    .dataframe tbody tr th {\n",
       "        vertical-align: top;\n",
       "    }\n",
       "\n",
       "    .dataframe thead th {\n",
       "        text-align: right;\n",
       "    }\n",
       "</style>\n",
       "<table border=\"1\" class=\"dataframe\">\n",
       "  <thead>\n",
       "    <tr style=\"text-align: right;\">\n",
       "      <th></th>\n",
       "      <th>tv</th>\n",
       "      <th>sales</th>\n",
       "    </tr>\n",
       "  </thead>\n",
       "  <tbody>\n",
       "    <tr>\n",
       "      <th>0</th>\n",
       "      <td>230.1</td>\n",
       "      <td>465.26</td>\n",
       "    </tr>\n",
       "    <tr>\n",
       "      <th>1</th>\n",
       "      <td>44.5</td>\n",
       "      <td>218.95</td>\n",
       "    </tr>\n",
       "    <tr>\n",
       "      <th>2</th>\n",
       "      <td>17.2</td>\n",
       "      <td>195.79</td>\n",
       "    </tr>\n",
       "    <tr>\n",
       "      <th>3</th>\n",
       "      <td>151.5</td>\n",
       "      <td>389.47</td>\n",
       "    </tr>\n",
       "    <tr>\n",
       "      <th>4</th>\n",
       "      <td>180.8</td>\n",
       "      <td>271.58</td>\n",
       "    </tr>\n",
       "  </tbody>\n",
       "</table>\n",
       "</div>"
      ],
      "text/plain": [
       "      tv   sales\n",
       "0  230.1  465.26\n",
       "1   44.5  218.95\n",
       "2   17.2  195.79\n",
       "3  151.5  389.47\n",
       "4  180.8  271.58"
      ]
     },
     "execution_count": 10,
     "metadata": {},
     "output_type": "execute_result"
    }
   ],
   "source": [
    "# Read the file \"Advertising_csv\"\n",
    "df = pd.read_csv('Advertising_adj.csv')\n",
    "\n",
    "# Take a quick look at the data\n",
    "df.head()\n"
   ]
  },
  {
   "cell_type": "code",
   "execution_count": 11,
   "id": "2ea3f22e-48c2-4057-ba21-9259d9f810b4",
   "metadata": {},
   "outputs": [
    {
     "data": {
      "text/plain": [
       "(200, 2)"
      ]
     },
     "execution_count": 11,
     "metadata": {},
     "output_type": "execute_result"
    }
   ],
   "source": [
    "df.shape"
   ]
  },
  {
   "cell_type": "code",
   "execution_count": 12,
   "id": "6e5d03d7-b066-4413-a5b4-96704f132a02",
   "metadata": {},
   "outputs": [],
   "source": [
    "# Define a bootstrap function, which takes as input a dataframe \n",
    "# It must output a bootstrapped version of the input dataframe\n",
    "def bootstrap(df):\n",
    "    selectionIndex = np.random.randint(len(df), size=len(df))\n",
    "    new_df = df.iloc[selectionIndex]\n",
    "    return new_df\n"
   ]
  },
  {
   "cell_type": "code",
   "execution_count": 13,
   "id": "03bd9431-c604-461e-af01-ab94a6612b66",
   "metadata": {},
   "outputs": [],
   "source": [
    "# Initialize two empty lists to store the beta values\n",
    "beta0_list, beta1_list = [],[]\n",
    "\n",
    "# Choose the number of \"parallel\" Universes to generate the new dataset\n",
    "number_of_bootstraps = 500\n",
    "\n",
    "# Loop through the number of bootstraps\n",
    "for i in range(number_of_bootstraps):\n",
    "\n",
    "    # Call the bootstrap function to get a bootstrapped version of the data\n",
    "    df_new = bootstrap(df)\n",
    "\n",
    "    # Find the mean of the predictor values i.e. tv\n",
    "    xmean = df_new.tv.mean()\n",
    "\n",
    "    # Find the mean of the response values i.e. sales\n",
    "    ymean = df_new.sales.mean()\n",
    "\n",
    "    #'X' is the predictor variable given by df_new.tv  \n",
    "    X = df_new.tv \n",
    "    \n",
    "    #'y' is the reponse variable given by df_new.sales \n",
    "    y = df_new.sales\n",
    "    \n",
    "    # Compute the analytical values of beta0 and beta1 using the \n",
    "    # equation given in the hints\n",
    "    beta1 = np.sum((X-xmean) * (y-ymean)) / np.sum((X-xmean)**2)\n",
    "    beta0 = ymean - beta1*xmean\n",
    "\n",
    "    # Append the calculated values of beta1 and beta0 to the appropriate lists\n",
    "    beta0_list.append(beta0)\n",
    "    beta1_list.append(beta1)\n"
   ]
  },
  {
   "cell_type": "code",
   "execution_count": 14,
   "id": "1361148e-0be5-40df-8691-b8fa34c56154",
   "metadata": {},
   "outputs": [
    {
     "name": "stdout",
     "output_type": "stream",
     "text": [
      "148.55459617499508\n",
      "0.9967847551778304\n"
     ]
    }
   ],
   "source": [
    "### edTest(test_beta) ###\n",
    "\n",
    "# Compute the mean of the beta values\n",
    "beta0_mean = np.mean(beta0_list)\n",
    "beta1_mean = np.mean(beta1_list)\n",
    "print(beta0_mean)\n",
    "print(beta1_mean)"
   ]
  },
  {
   "cell_type": "code",
   "execution_count": 15,
   "id": "3beea27f-55d7-4997-847a-198a831c0b5f",
   "metadata": {},
   "outputs": [
    {
     "data": {
      "image/png": "[encoded data removed]",
      "text/plain": [
       "<Figure size 1800x800 with 2 Axes>"
      ]
     },
     "metadata": {},
     "output_type": "display_data"
    }
   ],
   "source": [
    "# Plot histograms of beta_0 and beta_1 using lists created above \n",
    "\n",
    "fig, ax = plt.subplots(1,2, figsize=(18,8))\n",
    "ax[0].hist(beta0_list)\n",
    "ax[1].hist(beta1_list)\n",
    "ax[0].set_xlabel('Beta 0')\n",
    "ax[1].set_xlabel('Beta 1')\n",
    "ax[0].set_ylabel('Frequency')\n",
    "plt.show();\n"
   ]
  },
  {
   "cell_type": "code",
   "execution_count": 16,
   "id": "bb532360-72a6-4394-8bfc-cbd8c3186a98",
   "metadata": {},
   "outputs": [],
   "source": [
    "# Helper code to visualise the similarity between the bootstrap\n",
    "# function here & the RandomUniverse() function from last exercise\n",
    "beta0_randUni, beta1_randUni = [],[]\n",
    "\n",
    "parallelUniverses = 500\n",
    "\n",
    "for i in range(parallelUniverses):\n",
    "    df_new = RandomUniverse(df)\n",
    "    \n",
    "    xmean = df_new.tv.mean()\n",
    "    ymean = df_new.sales.mean()\n",
    "\n",
    "    # Using linear algebra result as discussed in lecture\n",
    "    beta1 = (((df_new.tv - xmean)*(df_new.sales - ymean)).sum())/(((df_new.tv - xmean)**2).sum())\n",
    "    beta0 = ymean - beta1*xmean\n",
    "\n",
    "    beta0_randUni.append(beta0)\n",
    "    beta1_randUni.append(beta1)\n"
   ]
  },
  {
   "cell_type": "code",
   "execution_count": 17,
   "id": "0553f1fe-b24d-4737-b3a1-a33b3a2c0e70",
   "metadata": {},
   "outputs": [],
   "source": [
    "# Helper code to plot the bootstrapped beta values & the ones from random universe\n",
    "def plotmulti(list1, list2):\n",
    "    fig, axes = plt.subplots(1,2, figsize = (10,4), sharey = 'row')\n",
    "    axes[0].hist(list1);\n",
    "    axes[0].set_xlabel('Beta Distribution')\n",
    "    axes[0].set_ylabel('Frequency')\n",
    "    axes[0].set_title('Bootstrap')\n",
    "    axes[1].hist(list2);\n",
    "    axes[1].set_xlabel('Beta Distribution')\n",
    "    axes[1].set_title('Random Universe')\n",
    "    plt.show();\n"
   ]
  },
  {
   "cell_type": "code",
   "execution_count": 18,
   "id": "20bdf236-9dd9-4ada-9796-3f3288d9f5e7",
   "metadata": {},
   "outputs": [
    {
     "data": {
      "image/png": "[encoded data removed]",
      "text/plain": [
       "<Figure size 1000x400 with 2 Axes>"
      ]
     },
     "metadata": {},
     "output_type": "display_data"
    }
   ],
   "source": [
    "# Call the 'plotmulti' function above to compare the two histograms for beta0\n",
    "plotmulti(beta0_list, beta0_randUni)\n"
   ]
  },
  {
   "cell_type": "code",
   "execution_count": 19,
   "id": "52202bc0-86f3-47e9-92bf-d79f5b91fa2f",
   "metadata": {},
   "outputs": [
    {
     "data": {
      "image/png": "[encoded data removed]",
      "text/plain": [
       "<Figure size 1000x400 with 2 Axes>"
      ]
     },
     "metadata": {},
     "output_type": "display_data"
    }
   ],
   "source": [
    "# Call the 'plotmulti' function above to compare the two histograms for beta1\n",
    "plotmulti(beta1_list, beta1_randUni)\n"
   ]
  },
  {
   "cell_type": "markdown",
   "id": "5eaaa5a6-18d4-4d04-9bfe-8c8004d0165f",
   "metadata": {},
   "source": [
    "# Exercise: Confidence Interval for Beta value"
   ]
  },
  {
   "cell_type": "code",
   "execution_count": 20,
   "id": "63594816-712a-4969-99e5-397f8640345a",
   "metadata": {},
   "outputs": [],
   "source": [
    "def RandomUniverse(df):\n",
    "    df_bootstrap = df.sample(200, replace = True)\n",
    "    return df_bootstrap"
   ]
  },
  {
   "cell_type": "code",
   "execution_count": 21,
   "id": "8291b02d-af03-4000-9a9b-f0da59286b17",
   "metadata": {},
   "outputs": [],
   "source": [
    "# Import necessary libraries\n",
    "import numpy as np\n",
    "import pandas as pd\n",
    "import matplotlib.pyplot as plt\n",
    "%matplotlib inline\n"
   ]
  },
  {
   "cell_type": "code",
   "execution_count": 22,
   "id": "b767f994-5c54-4be7-8542-189b70f4d4ea",
   "metadata": {},
   "outputs": [
    {
     "data": {
      "text/html": [
       "<div>\n",
       "<style scoped>\n",
       "    .dataframe tbody tr th:only-of-type {\n",
       "        vertical-align: middle;\n",
       "    }\n",
       "\n",
       "    .dataframe tbody tr th {\n",
       "        vertical-align: top;\n",
       "    }\n",
       "\n",
       "    .dataframe thead th {\n",
       "        text-align: right;\n",
       "    }\n",
       "</style>\n",
       "<table border=\"1\" class=\"dataframe\">\n",
       "  <thead>\n",
       "    <tr style=\"text-align: right;\">\n",
       "      <th></th>\n",
       "      <th>tv</th>\n",
       "      <th>sales</th>\n",
       "    </tr>\n",
       "  </thead>\n",
       "  <tbody>\n",
       "    <tr>\n",
       "      <th>0</th>\n",
       "      <td>230.1</td>\n",
       "      <td>465.26</td>\n",
       "    </tr>\n",
       "    <tr>\n",
       "      <th>1</th>\n",
       "      <td>44.5</td>\n",
       "      <td>218.95</td>\n",
       "    </tr>\n",
       "    <tr>\n",
       "      <th>2</th>\n",
       "      <td>17.2</td>\n",
       "      <td>195.79</td>\n",
       "    </tr>\n",
       "  </tbody>\n",
       "</table>\n",
       "</div>"
      ],
      "text/plain": [
       "      tv   sales\n",
       "0  230.1  465.26\n",
       "1   44.5  218.95\n",
       "2   17.2  195.79"
      ]
     },
     "execution_count": 22,
     "metadata": {},
     "output_type": "execute_result"
    }
   ],
   "source": [
    "# Read the 'Advertising_adj.csv' file\n",
    "df = pd.read_csv('Advertising_adj.csv')\n",
    "\n",
    "# Take a quick look at the data\n",
    "df.head(3)\n"
   ]
  },
  {
   "cell_type": "code",
   "execution_count": 23,
   "id": "545e5653-8f7c-4d60-b4ba-7a3a418b6060",
   "metadata": {},
   "outputs": [
    {
     "data": {
      "text/plain": [
       "(200, 2)"
      ]
     },
     "execution_count": 23,
     "metadata": {},
     "output_type": "execute_result"
    }
   ],
   "source": [
    "df.shape"
   ]
  },
  {
   "cell_type": "code",
   "execution_count": 24,
   "id": "91208086-c4b3-47da-8945-2f2250797077",
   "metadata": {},
   "outputs": [],
   "source": [
    "# Use the bootstrap function defined in the previous exercise\n",
    "def bootstrap(df):\n",
    "    selectionIndex = np.random.randint(len(df), size = len(df))\n",
    "    new_df = df.iloc[selectionIndex]\n",
    "    return new_df\n"
   ]
  },
  {
   "cell_type": "code",
   "execution_count": 25,
   "id": "e3beedef-94e0-4b0e-83a2-b75aa5617a88",
   "metadata": {},
   "outputs": [],
   "source": [
    "# Initialize empty lists to store beta values from 100 bootstraps \n",
    "# of the original data\n",
    "beta0_list, beta1_list = [],[]\n",
    "\n",
    "# Set the number of bootstraps\n",
    "numberOfBootstraps = 100\n",
    "\n",
    "# Loop over the number of bootstraps\n",
    "for i in range(numberOfBootstraps):\n",
    "    \n",
    "    # Call the function bootstrap with the original dataframe\n",
    "    df_new = bootstrap(df)\n",
    "    \n",
    "    # Compute the mean of the predictor i.e. the TV column\n",
    "    xmean = df_new.tv.mean()\n",
    "\n",
    "    # Compute the mean of the response i.e. the Sales column\n",
    "    ymean = df_new.sales.mean()\n",
    "    \n",
    "    # Compute beta1 analytical using the equation in the hints\n",
    "    beta1 = (((df_new.tv - xmean)*(df_new.sales - ymean)).sum())/(((df_new.tv - xmean)**2).sum())\n",
    "\n",
    "    # Compute beta1 analytical using the equation in the hints\n",
    "    beta0 = ymean - beta1*xmean\n",
    "    \n",
    "    # Append the beta values to their appropriate lists\n",
    "    beta0_list.append(beta0)\n",
    "    beta1_list.append(beta1)\n",
    "    "
   ]
  },
  {
   "cell_type": "code",
   "execution_count": 26,
   "id": "0a646bef-ae5e-4c95-95ce-ac6ed12ade02",
   "metadata": {},
   "outputs": [],
   "source": [
    "### edTest(test_sort) ###\n",
    "\n",
    "# Sort the two lists of beta values from the lowest value to highest \n",
    "beta0_list.sort();\n",
    "beta1_list.sort();\n"
   ]
  },
  {
   "cell_type": "code",
   "execution_count": 29,
   "id": "1e8dc6cb-2089-4163-ae6a-e9d74f2cfe80",
   "metadata": {},
   "outputs": [
    {
     "name": "stdout",
     "output_type": "stream",
     "text": [
      "(138.00546657413392, 159.95750172427086)\n",
      "(0.8915125038051013, 1.0916410730178447)\n"
     ]
    }
   ],
   "source": [
    "### edTest(test_beta) ###\n",
    "\n",
    "# Find the 95% percent confidence for beta0 interval using the \n",
    "# percentile function\n",
    "# This has to include both the values i.e. lower end and upper end\n",
    "beta0_CI = (np.percentile(beta0_list,2.5),np.percentile(beta0_list,97.5))\n",
    "\n",
    "# Find the 95% percent confidence for beta1 interval using the \n",
    "# percentile function\n",
    "# This has to include both the values i.e. lower end and upper end\n",
    "beta1_CI = (np.percentile(beta1_list,2.5),np.percentile(beta1_list,97.5))\n",
    "\n",
    "print(beta0_CI)\n",
    "print(beta1_CI)"
   ]
  },
  {
   "cell_type": "code",
   "execution_count": 30,
   "id": "dd51426a-0f8c-4827-b552-ed1a4abed149",
   "metadata": {},
   "outputs": [
    {
     "name": "stdout",
     "output_type": "stream",
     "text": [
      "The beta0 confidence interval is (138.00546657413392, 159.95750172427086)\n"
     ]
    }
   ],
   "source": [
    "# Print the confidence interval of beta0 upto 3 decimal points\n",
    "print(f'The beta0 confidence interval is {beta0_CI}')\n"
   ]
  },
  {
   "cell_type": "code",
   "execution_count": 31,
   "id": "82a03392-f21e-4587-86ef-70a99da21108",
   "metadata": {},
   "outputs": [
    {
     "name": "stdout",
     "output_type": "stream",
     "text": [
      "The beta1 confidence interval is (0.8915125038051013, 1.0916410730178447)\n"
     ]
    }
   ],
   "source": [
    "# Print the confidence interval of beta1 upto 3 decimal points\n",
    "print(f'The beta1 confidence interval is {beta1_CI}')\n"
   ]
  },
  {
   "cell_type": "code",
   "execution_count": 32,
   "id": "23add784-7115-4019-99db-10eba1664a05",
   "metadata": {},
   "outputs": [],
   "source": [
    "# Helper function to plot the histogram of beta values along with \n",
    "# the 95% confidence interval\n",
    "def plot_simulation(simulation,confidence):\n",
    "    plt.hist(simulation, bins = 30, label = fr'$\\beta$ distribution', align = 'left', density = True)\n",
    "    plt.axvline(confidence[1], 0, 1, color = 'r', label = 'Right Interval')\n",
    "    plt.axvline(confidence[0], 0, 1, color = 'red', label = 'Left Interval')\n",
    "    plt.xlabel(fr'$\\beta$ value')\n",
    "    plt.ylabel('Frequency')\n",
    "    plt.title('95% Confidence Interval')\n",
    "    plt.legend(frameon = False, loc = 'upper right')\n"
   ]
  },
  {
   "cell_type": "code",
   "execution_count": 40,
   "id": "6cf09a55-0250-42a9-bbd1-b139551fc892",
   "metadata": {},
   "outputs": [
    {
     "data": {
      "image/png": "[encoded data removed]",
      "text/plain": [
       "<Figure size 640x480 with 1 Axes>"
      ]
     },
     "metadata": {},
     "output_type": "display_data"
    }
   ],
   "source": [
    "# Call the function plot_simulation to get the histogram for beta 0\n",
    "# with the confidence interval\n",
    "plot_simulation(beta0_list, beta0_CI)\n"
   ]
  },
  {
   "cell_type": "code",
   "execution_count": 41,
   "id": "8e59694a-e230-4695-97a7-9c9c3ecf647e",
   "metadata": {},
   "outputs": [
    {
     "data": {
      "image/png": "[encoded data removed]",
      "text/plain": [
       "<Figure size 640x480 with 1 Axes>"
      ]
     },
     "metadata": {},
     "output_type": "display_data"
    }
   ],
   "source": [
    "# Call the function plot_simulation to get the histogram for beta 1\n",
    "# with the confidence interval\n",
    "plot_simulation(beta1_list, beta1_CI)\n"
   ]
  },
  {
   "cell_type": "markdown",
   "id": "03ae14d2-a751-4b04-b127-a03acf9847a1",
   "metadata": {},
   "source": [
    "# Exercise: Hypothesis Testing"
   ]
  },
  {
   "cell_type": "code",
   "execution_count": 42,
   "id": "04ca8ad7-d116-47fe-9b4e-52c13f63546c",
   "metadata": {},
   "outputs": [],
   "source": [
    "# Import libraries\n",
    "%matplotlib inline\n",
    "import pandas as pd\n",
    "import numpy as np\n",
    "import matplotlib.pyplot as plt\n",
    "from sklearn import preprocessing\n",
    "from sklearn.metrics import mean_squared_error\n",
    "from sklearn.linear_model import LinearRegression\n",
    "from sklearn.model_selection import train_test_split\n",
    "from sklearn.preprocessing import MinMaxScaler\n",
    "from scipy import stats"
   ]
  },
  {
   "cell_type": "code",
   "execution_count": 46,
   "id": "55e1e85b-b95a-4445-b71b-74cb3eeb2590",
   "metadata": {},
   "outputs": [
    {
     "data": {
      "text/html": [
       "<div>\n",
       "<style scoped>\n",
       "    .dataframe tbody tr th:only-of-type {\n",
       "        vertical-align: middle;\n",
       "    }\n",
       "\n",
       "    .dataframe tbody tr th {\n",
       "        vertical-align: top;\n",
       "    }\n",
       "\n",
       "    .dataframe thead th {\n",
       "        text-align: right;\n",
       "    }\n",
       "</style>\n",
       "<table border=\"1\" class=\"dataframe\">\n",
       "  <thead>\n",
       "    <tr style=\"text-align: right;\">\n",
       "      <th></th>\n",
       "      <th>TV</th>\n",
       "      <th>Radio</th>\n",
       "      <th>Newspaper</th>\n",
       "      <th>Sales</th>\n",
       "    </tr>\n",
       "  </thead>\n",
       "  <tbody>\n",
       "    <tr>\n",
       "      <th>0</th>\n",
       "      <td>230.1</td>\n",
       "      <td>37.8</td>\n",
       "      <td>69.2</td>\n",
       "      <td>22.1</td>\n",
       "    </tr>\n",
       "    <tr>\n",
       "      <th>1</th>\n",
       "      <td>44.5</td>\n",
       "      <td>39.3</td>\n",
       "      <td>45.1</td>\n",
       "      <td>10.4</td>\n",
       "    </tr>\n",
       "    <tr>\n",
       "      <th>2</th>\n",
       "      <td>17.2</td>\n",
       "      <td>45.9</td>\n",
       "      <td>69.3</td>\n",
       "      <td>9.3</td>\n",
       "    </tr>\n",
       "    <tr>\n",
       "      <th>3</th>\n",
       "      <td>151.5</td>\n",
       "      <td>41.3</td>\n",
       "      <td>58.5</td>\n",
       "      <td>18.5</td>\n",
       "    </tr>\n",
       "    <tr>\n",
       "      <th>4</th>\n",
       "      <td>180.8</td>\n",
       "      <td>10.8</td>\n",
       "      <td>58.4</td>\n",
       "      <td>12.9</td>\n",
       "    </tr>\n",
       "  </tbody>\n",
       "</table>\n",
       "</div>"
      ],
      "text/plain": [
       "      TV  Radio  Newspaper  Sales\n",
       "0  230.1   37.8       69.2   22.1\n",
       "1   44.5   39.3       45.1   10.4\n",
       "2   17.2   45.9       69.3    9.3\n",
       "3  151.5   41.3       58.5   18.5\n",
       "4  180.8   10.8       58.4   12.9"
      ]
     },
     "execution_count": 46,
     "metadata": {},
     "output_type": "execute_result"
    }
   ],
   "source": [
    "# Read the file \"Advertising.csv\" as a dataframe\n",
    "\n",
    "df = pd.read_csv('Advertising.csv')\n",
    "df.head()"
   ]
  },
  {
   "cell_type": "code",
   "execution_count": 47,
   "id": "2192d210-d3ea-45d6-9b28-a008ae0278a3",
   "metadata": {},
   "outputs": [
    {
     "data": {
      "text/plain": [
       "(200, 4)"
      ]
     },
     "execution_count": 47,
     "metadata": {},
     "output_type": "execute_result"
    }
   ],
   "source": [
    "df.shape"
   ]
  },
  {
   "cell_type": "code",
   "execution_count": 48,
   "id": "d2a18051-9519-4795-806c-70f3cfb7c818",
   "metadata": {},
   "outputs": [],
   "source": [
    "# Normalize using MinMaxScaler\n",
    "x_col = [\"TV\",\"Radio\",\"Newspaper\"]\n",
    "scaler = MinMaxScaler()\n",
    "df[x_col] = scaler.fit_transform(df[x_col])"
   ]
  },
  {
   "cell_type": "code",
   "execution_count": 49,
   "id": "f8f4ee54-d951-4b08-88bc-c02fdba707a9",
   "metadata": {},
   "outputs": [],
   "source": [
    "# Select a subdataframe of predictors\n",
    "\n",
    "X = df.drop(['Sales'],axis=1)\n",
    "\n",
    "# Select the response variable\n",
    "\n",
    "y = df['Sales']"
   ]
  },
  {
   "cell_type": "code",
   "execution_count": 50,
   "id": "f00479f1-515a-4dfb-8b21-28186b1f4f65",
   "metadata": {},
   "outputs": [
    {
     "data": {
      "text/html": [
       "<style>#sk-container-id-1 {\n",
       "  /* Definition of color scheme common for light and dark mode */\n",
       "  --sklearn-color-text: black;\n",
       "  --sklearn-color-line: gray;\n",
       "  /* Definition of color scheme for unfitted estimators */\n",
       "  --sklearn-color-unfitted-level-0: #fff5e6;\n",
       "  --sklearn-color-unfitted-level-1: #f6e4d2;\n",
       "  --sklearn-color-unfitted-level-2: #ffe0b3;\n",
       "  --sklearn-color-unfitted-level-3: chocolate;\n",
       "  /* Definition of color scheme for fitted estimators */\n",
       "  --sklearn-color-fitted-level-0: #f0f8ff;\n",
       "  --sklearn-color-fitted-level-1: #d4ebff;\n",
       "  --sklearn-color-fitted-level-2: #b3dbfd;\n",
       "  --sklearn-color-fitted-level-3: cornflowerblue;\n",
       "\n",
       "  /* Specific color for light theme */\n",
       "  --sklearn-color-text-on-default-background: var(--sg-text-color, var(--theme-code-foreground, var(--jp-content-font-color1, black)));\n",
       "  --sklearn-color-background: var(--sg-background-color, var(--theme-background, var(--jp-layout-color0, white)));\n",
       "  --sklearn-color-border-box: var(--sg-text-color, var(--theme-code-foreground, var(--jp-content-font-color1, black)));\n",
       "  --sklearn-color-icon: #696969;\n",
       "\n",
       "  @media (prefers-color-scheme: dark) {\n",
       "    /* Redefinition of color scheme for dark theme */\n",
       "    --sklearn-color-text-on-default-background: var(--sg-text-color, var(--theme-code-foreground, var(--jp-content-font-color1, white)));\n",
       "    --sklearn-color-background: var(--sg-background-color, var(--theme-background, var(--jp-layout-color0, #111)));\n",
       "    --sklearn-color-border-box: var(--sg-text-color, var(--theme-code-foreground, var(--jp-content-font-color1, white)));\n",
       "    --sklearn-color-icon: #878787;\n",
       "  }\n",
       "}\n",
       "\n",
       "#sk-container-id-1 {\n",
       "  color: var(--sklearn-color-text);\n",
       "}\n",
       "\n",
       "#sk-container-id-1 pre {\n",
       "  padding: 0;\n",
       "}\n",
       "\n",
       "#sk-container-id-1 input.sk-hidden--visually {\n",
       "  border: 0;\n",
       "  clip: rect(1px 1px 1px 1px);\n",
       "  clip: rect(1px, 1px, 1px, 1px);\n",
       "  height: 1px;\n",
       "  margin: -1px;\n",
       "  overflow: hidden;\n",
       "  padding: 0;\n",
       "  position: absolute;\n",
       "  width: 1px;\n",
       "}\n",
       "\n",
       "#sk-container-id-1 div.sk-dashed-wrapped {\n",
       "  border: 1px dashed var(--sklearn-color-line);\n",
       "  margin: 0 0.4em 0.5em 0.4em;\n",
       "  box-sizing: border-box;\n",
       "  padding-bottom: 0.4em;\n",
       "  background-color: var(--sklearn-color-background);\n",
       "}\n",
       "\n",
       "#sk-container-id-1 div.sk-container {\n",
       "  /* jupyter's `normalize.less` sets `[hidden] { display: none; }`\n",
       "     but bootstrap.min.css set `[hidden] { display: none !important; }`\n",
       "     so we also need the `!important` here to be able to override the\n",
       "     default hidden behavior on the sphinx rendered scikit-learn.org.\n",
       "     See: https://github.com/scikit-learn/scikit-learn/issues/21755 */\n",
       "  display: inline-block !important;\n",
       "  position: relative;\n",
       "}\n",
       "\n",
       "#sk-container-id-1 div.sk-text-repr-fallback {\n",
       "  display: none;\n",
       "}\n",
       "\n",
       "div.sk-parallel-item,\n",
       "div.sk-serial,\n",
       "div.sk-item {\n",
       "  /* draw centered vertical line to link estimators */\n",
       "  background-image: linear-gradient(var(--sklearn-color-text-on-default-background), var(--sklearn-color-text-on-default-background));\n",
       "  background-size: 2px 100%;\n",
       "  background-repeat: no-repeat;\n",
       "  background-position: center center;\n",
       "}\n",
       "\n",
       "/* Parallel-specific style estimator block */\n",
       "\n",
       "#sk-container-id-1 div.sk-parallel-item::after {\n",
       "  content: \"\";\n",
       "  width: 100%;\n",
       "  border-bottom: 2px solid var(--sklearn-color-text-on-default-background);\n",
       "  flex-grow: 1;\n",
       "}\n",
       "\n",
       "#sk-container-id-1 div.sk-parallel {\n",
       "  display: flex;\n",
       "  align-items: stretch;\n",
       "  justify-content: center;\n",
       "  background-color: var(--sklearn-color-background);\n",
       "  position: relative;\n",
       "}\n",
       "\n",
       "#sk-container-id-1 div.sk-parallel-item {\n",
       "  display: flex;\n",
       "  flex-direction: column;\n",
       "}\n",
       "\n",
       "#sk-container-id-1 div.sk-parallel-item:first-child::after {\n",
       "  align-self: flex-end;\n",
       "  width: 50%;\n",
       "}\n",
       "\n",
       "#sk-container-id-1 div.sk-parallel-item:last-child::after {\n",
       "  align-self: flex-start;\n",
       "  width: 50%;\n",
       "}\n",
       "\n",
       "#sk-container-id-1 div.sk-parallel-item:only-child::after {\n",
       "  width: 0;\n",
       "}\n",
       "\n",
       "/* Serial-specific style estimator block */\n",
       "\n",
       "#sk-container-id-1 div.sk-serial {\n",
       "  display: flex;\n",
       "  flex-direction: column;\n",
       "  align-items: center;\n",
       "  background-color: var(--sklearn-color-background);\n",
       "  padding-right: 1em;\n",
       "  padding-left: 1em;\n",
       "}\n",
       "\n",
       "\n",
       "/* Toggleable style: style used for estimator/Pipeline/ColumnTransformer box that is\n",
       "clickable and can be expanded/collapsed.\n",
       "- Pipeline and ColumnTransformer use this feature and define the default style\n",
       "- Estimators will overwrite some part of the style using the `sk-estimator` class\n",
       "*/\n",
       "\n",
       "/* Pipeline and ColumnTransformer style (default) */\n",
       "\n",
       "#sk-container-id-1 div.sk-toggleable {\n",
       "  /* Default theme specific background. It is overwritten whether we have a\n",
       "  specific estimator or a Pipeline/ColumnTransformer */\n",
       "  background-color: var(--sklearn-color-background);\n",
       "}\n",
       "\n",
       "/* Toggleable label */\n",
       "#sk-container-id-1 label.sk-toggleable__label {\n",
       "  cursor: pointer;\n",
       "  display: block;\n",
       "  width: 100%;\n",
       "  margin-bottom: 0;\n",
       "  padding: 0.5em;\n",
       "  box-sizing: border-box;\n",
       "  text-align: center;\n",
       "}\n",
       "\n",
       "#sk-container-id-1 label.sk-toggleable__label-arrow:before {\n",
       "  /* Arrow on the left of the label */\n",
       "  content: \"▸\";\n",
       "  float: left;\n",
       "  margin-right: 0.25em;\n",
       "  color: var(--sklearn-color-icon);\n",
       "}\n",
       "\n",
       "#sk-container-id-1 label.sk-toggleable__label-arrow:hover:before {\n",
       "  color: var(--sklearn-color-text);\n",
       "}\n",
       "\n",
       "/* Toggleable content - dropdown */\n",
       "\n",
       "#sk-container-id-1 div.sk-toggleable__content {\n",
       "  max-height: 0;\n",
       "  max-width: 0;\n",
       "  overflow: hidden;\n",
       "  text-align: left;\n",
       "  /* unfitted */\n",
       "  background-color: var(--sklearn-color-unfitted-level-0);\n",
       "}\n",
       "\n",
       "#sk-container-id-1 div.sk-toggleable__content.fitted {\n",
       "  /* fitted */\n",
       "  background-color: var(--sklearn-color-fitted-level-0);\n",
       "}\n",
       "\n",
       "#sk-container-id-1 div.sk-toggleable__content pre {\n",
       "  margin: 0.2em;\n",
       "  border-radius: 0.25em;\n",
       "  color: var(--sklearn-color-text);\n",
       "  /* unfitted */\n",
       "  background-color: var(--sklearn-color-unfitted-level-0);\n",
       "}\n",
       "\n",
       "#sk-container-id-1 div.sk-toggleable__content.fitted pre {\n",
       "  /* unfitted */\n",
       "  background-color: var(--sklearn-color-fitted-level-0);\n",
       "}\n",
       "\n",
       "#sk-container-id-1 input.sk-toggleable__control:checked~div.sk-toggleable__content {\n",
       "  /* Expand drop-down */\n",
       "  max-height: 200px;\n",
       "  max-width: 100%;\n",
       "  overflow: auto;\n",
       "}\n",
       "\n",
       "#sk-container-id-1 input.sk-toggleable__control:checked~label.sk-toggleable__label-arrow:before {\n",
       "  content: \"▾\";\n",
       "}\n",
       "\n",
       "/* Pipeline/ColumnTransformer-specific style */\n",
       "\n",
       "#sk-container-id-1 div.sk-label input.sk-toggleable__control:checked~label.sk-toggleable__label {\n",
       "  color: var(--sklearn-color-text);\n",
       "  background-color: var(--sklearn-color-unfitted-level-2);\n",
       "}\n",
       "\n",
       "#sk-container-id-1 div.sk-label.fitted input.sk-toggleable__control:checked~label.sk-toggleable__label {\n",
       "  background-color: var(--sklearn-color-fitted-level-2);\n",
       "}\n",
       "\n",
       "/* Estimator-specific style */\n",
       "\n",
       "/* Colorize estimator box */\n",
       "#sk-container-id-1 div.sk-estimator input.sk-toggleable__control:checked~label.sk-toggleable__label {\n",
       "  /* unfitted */\n",
       "  background-color: var(--sklearn-color-unfitted-level-2);\n",
       "}\n",
       "\n",
       "#sk-container-id-1 div.sk-estimator.fitted input.sk-toggleable__control:checked~label.sk-toggleable__label {\n",
       "  /* fitted */\n",
       "  background-color: var(--sklearn-color-fitted-level-2);\n",
       "}\n",
       "\n",
       "#sk-container-id-1 div.sk-label label.sk-toggleable__label,\n",
       "#sk-container-id-1 div.sk-label label {\n",
       "  /* The background is the default theme color */\n",
       "  color: var(--sklearn-color-text-on-default-background);\n",
       "}\n",
       "\n",
       "/* On hover, darken the color of the background */\n",
       "#sk-container-id-1 div.sk-label:hover label.sk-toggleable__label {\n",
       "  color: var(--sklearn-color-text);\n",
       "  background-color: var(--sklearn-color-unfitted-level-2);\n",
       "}\n",
       "\n",
       "/* Label box, darken color on hover, fitted */\n",
       "#sk-container-id-1 div.sk-label.fitted:hover label.sk-toggleable__label.fitted {\n",
       "  color: var(--sklearn-color-text);\n",
       "  background-color: var(--sklearn-color-fitted-level-2);\n",
       "}\n",
       "\n",
       "/* Estimator label */\n",
       "\n",
       "#sk-container-id-1 div.sk-label label {\n",
       "  font-family: monospace;\n",
       "  font-weight: bold;\n",
       "  display: inline-block;\n",
       "  line-height: 1.2em;\n",
       "}\n",
       "\n",
       "#sk-container-id-1 div.sk-label-container {\n",
       "  text-align: center;\n",
       "}\n",
       "\n",
       "/* Estimator-specific */\n",
       "#sk-container-id-1 div.sk-estimator {\n",
       "  font-family: monospace;\n",
       "  border: 1px dotted var(--sklearn-color-border-box);\n",
       "  border-radius: 0.25em;\n",
       "  box-sizing: border-box;\n",
       "  margin-bottom: 0.5em;\n",
       "  /* unfitted */\n",
       "  background-color: var(--sklearn-color-unfitted-level-0);\n",
       "}\n",
       "\n",
       "#sk-container-id-1 div.sk-estimator.fitted {\n",
       "  /* fitted */\n",
       "  background-color: var(--sklearn-color-fitted-level-0);\n",
       "}\n",
       "\n",
       "/* on hover */\n",
       "#sk-container-id-1 div.sk-estimator:hover {\n",
       "  /* unfitted */\n",
       "  background-color: var(--sklearn-color-unfitted-level-2);\n",
       "}\n",
       "\n",
       "#sk-container-id-1 div.sk-estimator.fitted:hover {\n",
       "  /* fitted */\n",
       "  background-color: var(--sklearn-color-fitted-level-2);\n",
       "}\n",
       "\n",
       "/* Specification for estimator info (e.g. \"i\" and \"?\") */\n",
       "\n",
       "/* Common style for \"i\" and \"?\" */\n",
       "\n",
       ".sk-estimator-doc-link,\n",
       "a:link.sk-estimator-doc-link,\n",
       "a:visited.sk-estimator-doc-link {\n",
       "  float: right;\n",
       "  font-size: smaller;\n",
       "  line-height: 1em;\n",
       "  font-family: monospace;\n",
       "  background-color: var(--sklearn-color-background);\n",
       "  border-radius: 1em;\n",
       "  height: 1em;\n",
       "  width: 1em;\n",
       "  text-decoration: none !important;\n",
       "  margin-left: 1ex;\n",
       "  /* unfitted */\n",
       "  border: var(--sklearn-color-unfitted-level-1) 1pt solid;\n",
       "  color: var(--sklearn-color-unfitted-level-1);\n",
       "}\n",
       "\n",
       ".sk-estimator-doc-link.fitted,\n",
       "a:link.sk-estimator-doc-link.fitted,\n",
       "a:visited.sk-estimator-doc-link.fitted {\n",
       "  /* fitted */\n",
       "  border: var(--sklearn-color-fitted-level-1) 1pt solid;\n",
       "  color: var(--sklearn-color-fitted-level-1);\n",
       "}\n",
       "\n",
       "/* On hover */\n",
       "div.sk-estimator:hover .sk-estimator-doc-link:hover,\n",
       ".sk-estimator-doc-link:hover,\n",
       "div.sk-label-container:hover .sk-estimator-doc-link:hover,\n",
       ".sk-estimator-doc-link:hover {\n",
       "  /* unfitted */\n",
       "  background-color: var(--sklearn-color-unfitted-level-3);\n",
       "  color: var(--sklearn-color-background);\n",
       "  text-decoration: none;\n",
       "}\n",
       "\n",
       "div.sk-estimator.fitted:hover .sk-estimator-doc-link.fitted:hover,\n",
       ".sk-estimator-doc-link.fitted:hover,\n",
       "div.sk-label-container:hover .sk-estimator-doc-link.fitted:hover,\n",
       ".sk-estimator-doc-link.fitted:hover {\n",
       "  /* fitted */\n",
       "  background-color: var(--sklearn-color-fitted-level-3);\n",
       "  color: var(--sklearn-color-background);\n",
       "  text-decoration: none;\n",
       "}\n",
       "\n",
       "/* Span, style for the box shown on hovering the info icon */\n",
       ".sk-estimator-doc-link span {\n",
       "  display: none;\n",
       "  z-index: 9999;\n",
       "  position: relative;\n",
       "  font-weight: normal;\n",
       "  right: .2ex;\n",
       "  padding: .5ex;\n",
       "  margin: .5ex;\n",
       "  width: min-content;\n",
       "  min-width: 20ex;\n",
       "  max-width: 50ex;\n",
       "  color: var(--sklearn-color-text);\n",
       "  box-shadow: 2pt 2pt 4pt #999;\n",
       "  /* unfitted */\n",
       "  background: var(--sklearn-color-unfitted-level-0);\n",
       "  border: .5pt solid var(--sklearn-color-unfitted-level-3);\n",
       "}\n",
       "\n",
       ".sk-estimator-doc-link.fitted span {\n",
       "  /* fitted */\n",
       "  background: var(--sklearn-color-fitted-level-0);\n",
       "  border: var(--sklearn-color-fitted-level-3);\n",
       "}\n",
       "\n",
       ".sk-estimator-doc-link:hover span {\n",
       "  display: block;\n",
       "}\n",
       "\n",
       "/* \"?\"-specific style due to the `<a>` HTML tag */\n",
       "\n",
       "#sk-container-id-1 a.estimator_doc_link {\n",
       "  float: right;\n",
       "  font-size: 1rem;\n",
       "  line-height: 1em;\n",
       "  font-family: monospace;\n",
       "  background-color: var(--sklearn-color-background);\n",
       "  border-radius: 1rem;\n",
       "  height: 1rem;\n",
       "  width: 1rem;\n",
       "  text-decoration: none;\n",
       "  /* unfitted */\n",
       "  color: var(--sklearn-color-unfitted-level-1);\n",
       "  border: var(--sklearn-color-unfitted-level-1) 1pt solid;\n",
       "}\n",
       "\n",
       "#sk-container-id-1 a.estimator_doc_link.fitted {\n",
       "  /* fitted */\n",
       "  border: var(--sklearn-color-fitted-level-1) 1pt solid;\n",
       "  color: var(--sklearn-color-fitted-level-1);\n",
       "}\n",
       "\n",
       "/* On hover */\n",
       "#sk-container-id-1 a.estimator_doc_link:hover {\n",
       "  /* unfitted */\n",
       "  background-color: var(--sklearn-color-unfitted-level-3);\n",
       "  color: var(--sklearn-color-background);\n",
       "  text-decoration: none;\n",
       "}\n",
       "\n",
       "#sk-container-id-1 a.estimator_doc_link.fitted:hover {\n",
       "  /* fitted */\n",
       "  background-color: var(--sklearn-color-fitted-level-3);\n",
       "}\n",
       "</style><div id=\"sk-container-id-1\" class=\"sk-top-container\"><div class=\"sk-text-repr-fallback\"><pre>LinearRegression()</pre><b>In a Jupyter environment, please rerun this cell to show the HTML representation or trust the notebook. <br />On GitHub, the HTML representation is unable to render, please try loading this page with nbviewer.org.</b></div><div class=\"sk-container\" hidden><div class=\"sk-item\"><div class=\"sk-estimator fitted sk-toggleable\"><input class=\"sk-toggleable__control sk-hidden--visually\" id=\"sk-estimator-id-1\" type=\"checkbox\" checked><label for=\"sk-estimator-id-1\" class=\"sk-toggleable__label fitted sk-toggleable__label-arrow fitted\">&nbsp;&nbsp;LinearRegression<a class=\"sk-estimator-doc-link fitted\" rel=\"noreferrer\" target=\"_blank\" href=\"https://scikit-learn.org/1.4/modules/generated/sklearn.linear_model.LinearRegression.html\">?<span>Documentation for LinearRegression</span></a><span class=\"sk-estimator-doc-link fitted\">i<span>Fitted</span></span></label><div class=\"sk-toggleable__content fitted\"><pre>LinearRegression()</pre></div> </div></div></div></div>"
      ],
      "text/plain": [
       "LinearRegression()"
      ]
     },
     "execution_count": 50,
     "metadata": {},
     "output_type": "execute_result"
    }
   ],
   "source": [
    "#Fit a linear regression model\n",
    "\n",
    "lreg = LinearRegression()\n",
    "\n",
    "lreg.fit(X, y)"
   ]
  },
  {
   "cell_type": "code",
   "execution_count": 51,
   "id": "d90f179e-ff6c-4729-b9dc-d461e42cda5b",
   "metadata": {},
   "outputs": [],
   "source": [
    "coef_dict = dict(zip(df.columns[:-1], np.transpose(lreg.coef_)))\n",
    "predictors,coefficients = list(zip(*sorted(coef_dict.items(),key=lambda x: x[1])))"
   ]
  },
  {
   "cell_type": "code",
   "execution_count": 52,
   "id": "d9462d91-8236-4169-99da-98c9e2e3a44d",
   "metadata": {},
   "outputs": [
    {
     "data": {
      "image/png": "[encoded data removed]",
      "text/plain": [
       "<Figure size 640x480 with 1 Axes>"
      ]
     },
     "metadata": {},
     "output_type": "display_data"
    }
   ],
   "source": [
    "# Use the helper code below to visualise your coefficients\n",
    "\n",
    "fig, ax = plt.subplots()\n",
    "ax.barh(predictors,coefficients, align='center',color=\"#336600\",alpha=0.7)\n",
    "ax.grid(linewidth=0.2)\n",
    "ax.set_xlabel(\"Coefficient\")\n",
    "ax.set_ylabel(\"Predictors\")\n",
    "plt.show()"
   ]
  },
  {
   "cell_type": "code",
   "execution_count": 53,
   "id": "82a3f926-ebd1-4729-ba52-927706796dc7",
   "metadata": {},
   "outputs": [],
   "source": [
    "# Helper function\n",
    "# t statistic calculator\n",
    "def get_t(arr):\n",
    "    means = np.abs(arr.mean(axis=0))\n",
    "    stds = arr.std(axis=0)\n",
    "    return np.divide(means,stds)#,where=stds!=0)"
   ]
  },
  {
   "cell_type": "code",
   "execution_count": 54,
   "id": "9c50490b-48f5-4a7b-8c62-8662a94aa8a7",
   "metadata": {},
   "outputs": [],
   "source": [
    "# We now bootstrap for numboot times to find the distribution for the coefficients\n",
    "coef_dist = []\n",
    "numboot = 1000\n",
    "for i in range(numboot):\n",
    "    # This is another way of making a bootstrap using df.sample method. \n",
    "    # Take frac=1 and replace=True to get a bootstrap.\n",
    "    df_new = df.sample(frac=1,replace=True)\n",
    "    \n",
    "    X = df_new.drop('Sales',axis=1)\n",
    "    y = df_new['Sales']\n",
    "    \n",
    "    # Fit a linear model\n",
    "    lreg = LinearRegression()\n",
    "    lreg.fit(X, y)\n",
    "    coef_dist.append(lreg.coef_)\n",
    "\n",
    "coef_dist = np.array(coef_dist)"
   ]
  },
  {
   "cell_type": "code",
   "execution_count": 55,
   "id": "bad5c6e4-add4-49d3-8211-0ab166a8ec38",
   "metadata": {},
   "outputs": [],
   "source": [
    "# We use the helper function from above to find the T-test values\n",
    "\n",
    "tt = get_t(coef_dist)\n",
    "n = df.shape[0]"
   ]
  },
  {
   "cell_type": "code",
   "execution_count": 56,
   "id": "a16bc529-c9a6-4f27-a936-96ff51d1abe7",
   "metadata": {},
   "outputs": [],
   "source": [
    "tt_dict = dict(zip(df.columns[:-1], tt))\n",
    "predictors, tvalues = list(zip(*sorted(tt_dict.items(),key=lambda x:x[1])))"
   ]
  },
  {
   "cell_type": "code",
   "execution_count": 57,
   "id": "7321a782-ce7b-4a1b-b647-b51bf631403a",
   "metadata": {},
   "outputs": [
    {
     "data": {
      "image/png": "[encoded data removed]",
      "text/plain": [
       "<Figure size 640x480 with 1 Axes>"
      ]
     },
     "metadata": {},
     "output_type": "display_data"
    }
   ],
   "source": [
    "# Use the helper code below to visualise your coefficients\n",
    "fig, ax = plt.subplots()\n",
    "ax.barh(predictors,tvalues, align='center',color=\"#336600\",alpha=0.7)\n",
    "ax.grid(linewidth=0.2)\n",
    "ax.set_xlabel(\"T-test values\")\n",
    "ax.set_ylabel(\"Predictors\")\n",
    "plt.show()"
   ]
  },
  {
   "cell_type": "code",
   "execution_count": 58,
   "id": "1fd51656-7747-45b7-8586-29eeb555538f",
   "metadata": {},
   "outputs": [],
   "source": [
    "### edTest(test_conf) ###\n",
    "# We now go from t-test values to p values using scipy.stats T-distribution function\n",
    "\n",
    "pval = stats.t.sf(tt, n-1)*2\n",
    "\n",
    "# here we use sf i.e 'Survival function' which is 1 - CDF of the t distribution.\n",
    "# where CDF is the Cumulative Distribution Function \n",
    "# We also multiply by two because its a two tailed test.\n",
    "# Please refer to lecture notes for more information\n",
    "\n",
    "# Since p values are in reversed order, we find the 'confidence' which is 1-p\n",
    "\n",
    "conf = 1-pval"
   ]
  },
  {
   "cell_type": "code",
   "execution_count": 59,
   "id": "fc128aad-726b-4e5d-9a89-e5803d86f4f2",
   "metadata": {},
   "outputs": [],
   "source": [
    "conf_dict = dict(zip(df.columns[:-1], conf))\n",
    "predictors, confs = list(zip(*sorted(conf_dict.items(),key=lambda x:x[1])))"
   ]
  },
  {
   "cell_type": "code",
   "execution_count": 60,
   "id": "bef579ee-ee1a-4016-83db-41134ecc20bb",
   "metadata": {},
   "outputs": [
    {
     "data": {
      "image/png": "[encoded data removed]",
      "text/plain": [
       "<Figure size 640x480 with 1 Axes>"
      ]
     },
     "metadata": {},
     "output_type": "display_data"
    }
   ],
   "source": [
    "# Use the helper code below to visualise your coefficients\n",
    "fig, ax = plt.subplots()\n",
    "\n",
    "ax.barh(predictors,confs, align='center',color=\"#336600\",alpha=0.7)\n",
    "ax.grid(linewidth=0.2)\n",
    "ax.axvline(x=0.95,linewidth=3,linestyle='--', color = 'black',alpha=0.8,label = '0.95')\n",
    "ax.set_xlabel(\"$1-p$ value\")\n",
    "ax.set_ylabel(\"Predictors\")\n",
    "ax.legend()\n",
    "plt.show()"
   ]
  },
  {
   "cell_type": "markdown",
   "id": "0cab7f2a-619b-49e9-b81d-bec56e537fb4",
   "metadata": {},
   "source": [
    "# Exericse: Prediction Confidence Interval"
   ]
  },
  {
   "cell_type": "code",
   "execution_count": 130,
   "id": "01639f2f-948d-4d80-a97a-d5ea36634a81",
   "metadata": {},
   "outputs": [],
   "source": [
    "# Import libraries\n",
    "%matplotlib inline\n",
    "import pandas as pd\n",
    "import numpy as np\n",
    "import matplotlib.pyplot as plt\n",
    "from sklearn import preprocessing\n",
    "from sklearn.metrics import mean_squared_error\n",
    "from sklearn.linear_model import LinearRegression\n",
    "from sklearn.model_selection import train_test_split\n",
    "from scipy import stats"
   ]
  },
  {
   "cell_type": "code",
   "execution_count": 131,
   "id": "142f7ea0-90ef-400c-81c0-a997d7090e0e",
   "metadata": {},
   "outputs": [
    {
     "data": {
      "text/html": [
       "<div>\n",
       "<style scoped>\n",
       "    .dataframe tbody tr th:only-of-type {\n",
       "        vertical-align: middle;\n",
       "    }\n",
       "\n",
       "    .dataframe tbody tr th {\n",
       "        vertical-align: top;\n",
       "    }\n",
       "\n",
       "    .dataframe thead th {\n",
       "        text-align: right;\n",
       "    }\n",
       "</style>\n",
       "<table border=\"1\" class=\"dataframe\">\n",
       "  <thead>\n",
       "    <tr style=\"text-align: right;\">\n",
       "      <th></th>\n",
       "      <th>TV</th>\n",
       "      <th>Radio</th>\n",
       "      <th>Newspaper</th>\n",
       "      <th>Sales</th>\n",
       "    </tr>\n",
       "  </thead>\n",
       "  <tbody>\n",
       "    <tr>\n",
       "      <th>0</th>\n",
       "      <td>230.1</td>\n",
       "      <td>37.8</td>\n",
       "      <td>69.2</td>\n",
       "      <td>22.1</td>\n",
       "    </tr>\n",
       "    <tr>\n",
       "      <th>1</th>\n",
       "      <td>44.5</td>\n",
       "      <td>39.3</td>\n",
       "      <td>45.1</td>\n",
       "      <td>10.4</td>\n",
       "    </tr>\n",
       "    <tr>\n",
       "      <th>2</th>\n",
       "      <td>17.2</td>\n",
       "      <td>45.9</td>\n",
       "      <td>69.3</td>\n",
       "      <td>9.3</td>\n",
       "    </tr>\n",
       "    <tr>\n",
       "      <th>3</th>\n",
       "      <td>151.5</td>\n",
       "      <td>41.3</td>\n",
       "      <td>58.5</td>\n",
       "      <td>18.5</td>\n",
       "    </tr>\n",
       "    <tr>\n",
       "      <th>4</th>\n",
       "      <td>180.8</td>\n",
       "      <td>10.8</td>\n",
       "      <td>58.4</td>\n",
       "      <td>12.9</td>\n",
       "    </tr>\n",
       "  </tbody>\n",
       "</table>\n",
       "</div>"
      ],
      "text/plain": [
       "      TV  Radio  Newspaper  Sales\n",
       "0  230.1   37.8       69.2   22.1\n",
       "1   44.5   39.3       45.1   10.4\n",
       "2   17.2   45.9       69.3    9.3\n",
       "3  151.5   41.3       58.5   18.5\n",
       "4  180.8   10.8       58.4   12.9"
      ]
     },
     "execution_count": 131,
     "metadata": {},
     "output_type": "execute_result"
    }
   ],
   "source": [
    "# Read the `Advertising.csv` dataframe\n",
    "\n",
    "df = pd.read_csv('Advertising.csv')\n",
    "df.head()"
   ]
  },
  {
   "cell_type": "code",
   "execution_count": 132,
   "id": "27f2157d-c91f-422e-b043-81057b23fbb4",
   "metadata": {},
   "outputs": [
    {
     "data": {
      "text/plain": [
       "(200, 4)"
      ]
     },
     "execution_count": 132,
     "metadata": {},
     "output_type": "execute_result"
    }
   ],
   "source": [
    "df.shape"
   ]
  },
  {
   "cell_type": "code",
   "execution_count": 133,
   "id": "c1e1451a-cf9a-4d14-8bdf-fa174aefa250",
   "metadata": {},
   "outputs": [],
   "source": [
    "# This helper function computes the variance of the error term \n",
    "\n",
    "def error_func(y,y_p):\n",
    "    n = len(y)\n",
    "    return np.sqrt(np.sum((y-y_p)**2/(n-2)))"
   ]
  },
  {
   "cell_type": "code",
   "execution_count": 134,
   "id": "835b3684-1e9c-4cc2-a839-199397494df5",
   "metadata": {},
   "outputs": [],
   "source": [
    "# select the number of bootstraps \n",
    "\n",
    "numboot = 1000\n",
    "\n",
    "# Set the budget amount of $1000. We have used a 2d list to facilitate model prediction (sklearn.LinearRegression requires input as a 2d array)\n",
    "budget = [[1000]]\n",
    "\n",
    "# Define an empty list that will store sales predictions for each bootstrap\n",
    "sales_dist = []"
   ]
  },
  {
   "cell_type": "code",
   "execution_count": 135,
   "id": "6cd98a0d-9545-4033-94c3-1207f60f9891",
   "metadata": {},
   "outputs": [],
   "source": [
    "# Running through each bootstrap, we fit a model, make predictions and compute sales which is appended to the list defined above\n",
    "\n",
    "for i in range(numboot):\n",
    "    # Bootstrap using df.sample method.\n",
    "    df_new = df.sample(frac=1, replace=True)\n",
    "    x = df_new[['TV']].values\n",
    "    y = df_new['Sales'].values\n",
    "    linreg = LinearRegression()\n",
    "    linreg.fit(x,y)\n",
    "    prediction = linreg.predict(budget)\n",
    "    y_pred = linreg.predict(x) \n",
    "    error = np.random.normal(0,error_func(y,y_pred))\n",
    "    # The final sales prediction is the sum of the model prediction and the error term\n",
    "    sales = np.sum(prediction+error)\n",
    "    sales_dist.append(np.float64(sales))"
   ]
  },
  {
   "cell_type": "code",
   "execution_count": 136,
   "id": "c351d3d8-637d-4b16-8533-3df1f84d597c",
   "metadata": {},
   "outputs": [],
   "source": [
    "### edTest(test_sales) ###\n",
    "# We sort the list containing sales predictions in ascending values \n",
    "\n",
    "sales_dist.sort()\n",
    "\n",
    "# find the 95% confidence interval using np.percentile function at 2.5% and 97.5%\n",
    "\n",
    "sales_CI = (np.percentile(sales_dist,2.5),np.percentile(sales_dist, 97.5))"
   ]
  },
  {
   "cell_type": "code",
   "execution_count": 137,
   "id": "62b0df79-5a50-4c5e-92ed-1dce2dd6ebbf",
   "metadata": {},
   "outputs": [],
   "source": [
    "# Use this helper function to plot the histogram of beta values along with the 95% confidence interval\n",
    "\n",
    "def plot_simulation(simulation,confidence):\n",
    "    plt.hist(simulation, bins = 30, label = 'beta distribution', align = 'left', density = True,edgecolor='k')\n",
    "    plt.axvline(confidence[1], 0, 1, color = 'r', label = 'Right Interval')\n",
    "    plt.axvline(confidence[0], 0, 1, color = 'red', label = 'Left Interval')\n",
    "    plt.xlabel('Beta value')\n",
    "    plt.ylabel('Frequency')\n",
    "    plt.legend(frameon = False, loc = 'upper right')"
   ]
  },
  {
   "cell_type": "code",
   "execution_count": 138,
   "id": "17b26322-3a80-441b-85b1-540f85088999",
   "metadata": {},
   "outputs": [
    {
     "data": {
      "image/png": "[encoded data removed]",
      "text/plain": [
       "<Figure size 640x480 with 1 Axes>"
      ]
     },
     "metadata": {},
     "output_type": "display_data"
    }
   ],
   "source": [
    "# call the function above with the computed sales distribution and the confidence intervals from earlier\n",
    "\n",
    "plot_simulation(sales_dist,sales_CI)"
   ]
  },
  {
   "cell_type": "code",
   "execution_count": 139,
   "id": "259e3eae-eddd-4d73-93f5-24d50686b88d",
   "metadata": {},
   "outputs": [
    {
     "name": "stdout",
     "output_type": "stream",
     "text": [
      "With a TV advertising budget of $1000,\n",
      "we can expect an increase of sales anywhere between 46.23 to 62.52 with a 95% confidence interval\n"
     ]
    }
   ],
   "source": [
    "# Print the computed values\n",
    "\n",
    "print(f\"With a TV advertising budget of ${budget[0][0]},\")\n",
    "print(f\"we can expect an increase of sales anywhere between {sales_CI[0]:0.2f} to {sales_CI[1]:.2f}\\\n",
    " with a 95% confidence interval\")"
   ]
  },
  {
   "cell_type": "code",
   "execution_count": 140,
   "id": "66f7d758-a4aa-4512-b856-4443b15bf2f5",
   "metadata": {},
   "outputs": [],
   "source": [
    "# Import libraries\n",
    "%matplotlib inline\n",
    "import pandas as pd\n",
    "import numpy as np\n",
    "import matplotlib.pyplot as plt\n",
    "from sklearn import preprocessing\n",
    "from sklearn.metrics import mean_squared_error\n",
    "from sklearn.linear_model import LinearRegression\n",
    "from sklearn.model_selection import train_test_split\n",
    "from scipy import stats"
   ]
  },
  {
   "cell_type": "code",
   "execution_count": 141,
   "id": "3f941371-0b1e-43b6-ab06-012c2f555f54",
   "metadata": {},
   "outputs": [
    {
     "data": {
      "text/html": [
       "<div>\n",
       "<style scoped>\n",
       "    .dataframe tbody tr th:only-of-type {\n",
       "        vertical-align: middle;\n",
       "    }\n",
       "\n",
       "    .dataframe tbody tr th {\n",
       "        vertical-align: top;\n",
       "    }\n",
       "\n",
       "    .dataframe thead th {\n",
       "        text-align: right;\n",
       "    }\n",
       "</style>\n",
       "<table border=\"1\" class=\"dataframe\">\n",
       "  <thead>\n",
       "    <tr style=\"text-align: right;\">\n",
       "      <th></th>\n",
       "      <th>TV</th>\n",
       "      <th>Radio</th>\n",
       "      <th>Newspaper</th>\n",
       "      <th>Sales</th>\n",
       "    </tr>\n",
       "  </thead>\n",
       "  <tbody>\n",
       "    <tr>\n",
       "      <th>0</th>\n",
       "      <td>230.1</td>\n",
       "      <td>37.8</td>\n",
       "      <td>69.2</td>\n",
       "      <td>22.1</td>\n",
       "    </tr>\n",
       "    <tr>\n",
       "      <th>1</th>\n",
       "      <td>44.5</td>\n",
       "      <td>39.3</td>\n",
       "      <td>45.1</td>\n",
       "      <td>10.4</td>\n",
       "    </tr>\n",
       "    <tr>\n",
       "      <th>2</th>\n",
       "      <td>17.2</td>\n",
       "      <td>45.9</td>\n",
       "      <td>69.3</td>\n",
       "      <td>9.3</td>\n",
       "    </tr>\n",
       "    <tr>\n",
       "      <th>3</th>\n",
       "      <td>151.5</td>\n",
       "      <td>41.3</td>\n",
       "      <td>58.5</td>\n",
       "      <td>18.5</td>\n",
       "    </tr>\n",
       "    <tr>\n",
       "      <th>4</th>\n",
       "      <td>180.8</td>\n",
       "      <td>10.8</td>\n",
       "      <td>58.4</td>\n",
       "      <td>12.9</td>\n",
       "    </tr>\n",
       "  </tbody>\n",
       "</table>\n",
       "</div>"
      ],
      "text/plain": [
       "      TV  Radio  Newspaper  Sales\n",
       "0  230.1   37.8       69.2   22.1\n",
       "1   44.5   39.3       45.1   10.4\n",
       "2   17.2   45.9       69.3    9.3\n",
       "3  151.5   41.3       58.5   18.5\n",
       "4  180.8   10.8       58.4   12.9"
      ]
     },
     "execution_count": 141,
     "metadata": {},
     "output_type": "execute_result"
    }
   ],
   "source": [
    "# Read the `Advertising.csv` dataframe\n",
    "\n",
    "df = pd.read_csv('Advertising.csv')\n",
    "df.head()"
   ]
  },
  {
   "cell_type": "code",
   "execution_count": 142,
   "id": "6e9d7f56-1674-4a6a-97c1-4201e1478036",
   "metadata": {},
   "outputs": [
    {
     "data": {
      "text/plain": [
       "(200, 4)"
      ]
     },
     "execution_count": 142,
     "metadata": {},
     "output_type": "execute_result"
    }
   ],
   "source": [
    "df.shape"
   ]
  },
  {
   "cell_type": "code",
   "execution_count": 143,
   "id": "9cbfeb91-b485-4baf-b171-7448e01967b0",
   "metadata": {},
   "outputs": [],
   "source": [
    "# This helper function computes the variance of the error term \n",
    "\n",
    "def error_func(y,y_p):\n",
    "    n = len(y)\n",
    "    return np.sqrt(np.sum((y-y_p)**2/(n-2)))"
   ]
  },
  {
   "cell_type": "code",
   "execution_count": 144,
   "id": "d0328f0a-b43c-4b22-915c-90963186ea68",
   "metadata": {},
   "outputs": [],
   "source": [
    "# select the number of bootstraps \n",
    "\n",
    "numboot = 1000\n",
    "\n",
    "# Set the budget amount of $1000. We have used a 2d list to facilitate model prediction (sklearn.LinearRegression requires input as a 2d array)\n",
    "budget = [[1000,0,0]]\n",
    "\n",
    "# Define an empty list that will store sales predictions for each bootstrap\n",
    "sales_dist = []"
   ]
  },
  {
   "cell_type": "code",
   "execution_count": 145,
   "id": "331e00b8-2e64-4778-8b14-fd24ab01cda0",
   "metadata": {},
   "outputs": [],
   "source": [
    "# Running through each bootstrap, we fit a model, make predictions and compute sales which is appended to the list defined above\n",
    "\n",
    "for i in range(numboot):\n",
    "    # Bootstrap using df.sample method.\n",
    "    df_new = df.sample(frac=1, replace=True)\n",
    "    x = df_new[['TV','Radio','Newspaper']].values\n",
    "    y = df_new['Sales'].values\n",
    "    linreg = LinearRegression()\n",
    "    linreg.fit(x,y)\n",
    "    prediction = linreg.predict(budget)\n",
    "    y_pred = linreg.predict(x) \n",
    "    error = np.random.normal(0,error_func(y,y_pred))\n",
    "    # The final sales prediction is the sum of the model prediction and the error term\n",
    "    sales = np.sum(prediction+error)\n",
    "    sales_dist.append(np.float64(sales))"
   ]
  },
  {
   "cell_type": "code",
   "execution_count": 146,
   "id": "b3a46a86-a02a-4b14-9772-f88eeccaeaea",
   "metadata": {},
   "outputs": [],
   "source": [
    "### edTest(test_sales) ###\n",
    "# We sort the list containing sales predictions in ascending values \n",
    "\n",
    "sales_dist.sort()\n",
    "\n",
    "# find the 95% confidence interval using np.percentile function at 2.5% and 97.5%\n",
    "\n",
    "sales_CI = (np.percentile(sales_dist,2.5),np.percentile(sales_dist, 97.5))"
   ]
  },
  {
   "cell_type": "code",
   "execution_count": 147,
   "id": "bc957d7e-f918-4754-be39-dcf1e41ff222",
   "metadata": {},
   "outputs": [],
   "source": [
    "# Use this helper function to plot the histogram of beta values along with the 95% confidence interval\n",
    "\n",
    "def plot_simulation(simulation,confidence):\n",
    "    plt.hist(simulation, bins = 30, label = 'beta distribution', align = 'left', density = True,edgecolor='k')\n",
    "    plt.axvline(confidence[1], 0, 1, color = 'r', label = 'Right Interval')\n",
    "    plt.axvline(confidence[0], 0, 1, color = 'red', label = 'Left Interval')\n",
    "    plt.xlabel('Beta value')\n",
    "    plt.ylabel('Frequency')\n",
    "    plt.legend(frameon = False, loc = 'upper right')"
   ]
  },
  {
   "cell_type": "code",
   "execution_count": 148,
   "id": "c5b4860b-e0fa-4036-8977-e4b551f693fa",
   "metadata": {},
   "outputs": [
    {
     "data": {
      "image/png": "[encoded data removed]",
      "text/plain": [
       "<Figure size 640x480 with 1 Axes>"
      ]
     },
     "metadata": {},
     "output_type": "display_data"
    }
   ],
   "source": [
    "# call the function above with the computed sales distribution and the confidence intervals from earlier\n",
    "\n",
    "plot_simulation(sales_dist,sales_CI)"
   ]
  },
  {
   "cell_type": "code",
   "execution_count": 150,
   "id": "c5392642-bd14-48ce-bc24-8d01cb333aa1",
   "metadata": {},
   "outputs": [
    {
     "name": "stdout",
     "output_type": "stream",
     "text": [
      "With an advertising budget of $[[1000, 0, 0]],\n",
      "we can expect an increase of sales anywhere between 44.20 to 53.14 with a 95% confidence interval\n"
     ]
    }
   ],
   "source": [
    "# Print the computed values\n",
    "\n",
    "print(f\"With an advertising budget of ${budget[0:2][0:2]},\")\n",
    "print(f\"we can expect an increase of sales anywhere between {sales_CI[0]:0.2f} to {sales_CI[1]:.2f}\\\n",
    " with a 95% confidence interval\")"
   ]
  },
  {
   "cell_type": "code",
   "execution_count": null,
   "id": "f8865721-9ea6-4667-850e-f6e815ad2d2b",
   "metadata": {},
   "outputs": [],
   "source": []
  }
 ],
 "metadata": {
  "kernelspec": {
   "display_name": "Python 3 (ipykernel)",
   "language": "python",
   "name": "python3"
  },
  "language_info": {
   "codemirror_mode": {
    "name": "ipython",
    "version": 3
   },
   "file_extension": ".py",
   "mimetype": "text/x-python",
   "name": "python",
   "nbconvert_exporter": "python",
   "pygments_lexer": "ipython3",
   "version": "3.11.7"
  }
 },
 "nbformat": 4,
 "nbformat_minor": 5
}
