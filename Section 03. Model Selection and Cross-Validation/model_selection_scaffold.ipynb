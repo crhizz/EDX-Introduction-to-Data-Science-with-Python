{
    "metadata": {
        "kernelspec": {
            "name": "python3",
            "display_name": "Python 3 (ipykernel)",
            "language": "python"
        }
    },
    "nbformat": 4,
    "nbformat_minor": 4,
    "cells": [
        {
            "cell_type": "code",
            "execution_count": 35,
            "metadata": {
                "scrolled": true
            },
            "outputs": [],
            "source": [
                "# Import necessary libraries\n",
                "import operator\n",
                "%matplotlib inline\n",
                "import numpy as np\n",
                "import pandas as pd\n",
                "import matplotlib.pyplot as plt\n",
                "from prettytable import PrettyTable\n",
                "from sklearn.metrics import mean_squared_error\n",
                "from sklearn.neighbors import KNeighborsRegressor\n",
                "from sklearn.linear_model import LinearRegression\n",
                "from sklearn.model_selection import train_test_split\n",
                "from sklearn.preprocessing import PolynomialFeatures\n",
                ""
            ]
        },
        {
            "cell_type": "code",
            "execution_count": 36,
            "metadata": {},
            "outputs": [
                {
                    "data": {
                        "text/html": "\u003cdiv\u003e\n\u003cstyle scoped\u003e\n    .dataframe tbody tr th:only-of-type {\n        vertical-align: middle;\n    }\n\n    .dataframe tbody tr th {\n        vertical-align: top;\n    }\n\n    .dataframe thead th {\n        text-align: right;\n    }\n\u003c/style\u003e\n\u003ctable border=\"1\" class=\"dataframe\"\u003e\n  \u003cthead\u003e\n    \u003ctr style=\"text-align: right;\"\u003e\n      \u003cth\u003e\u003c/th\u003e\n      \u003cth\u003ex\u003c/th\u003e\n      \u003cth\u003ey\u003c/th\u003e\n    \u003c/tr\u003e\n  \u003c/thead\u003e\n  \u003ctbody\u003e\n    \u003ctr\u003e\n      \u003cth\u003e0\u003c/th\u003e\n      \u003ctd\u003e4.98\u003c/td\u003e\n      \u003ctd\u003e24.0\u003c/td\u003e\n    \u003c/tr\u003e\n    \u003ctr\u003e\n      \u003cth\u003e1\u003c/th\u003e\n      \u003ctd\u003e9.14\u003c/td\u003e\n      \u003ctd\u003e21.6\u003c/td\u003e\n    \u003c/tr\u003e\n    \u003ctr\u003e\n      \u003cth\u003e2\u003c/th\u003e\n      \u003ctd\u003e4.03\u003c/td\u003e\n      \u003ctd\u003e34.7\u003c/td\u003e\n    \u003c/tr\u003e\n    \u003ctr\u003e\n      \u003cth\u003e3\u003c/th\u003e\n      \u003ctd\u003e2.94\u003c/td\u003e\n      \u003ctd\u003e33.4\u003c/td\u003e\n    \u003c/tr\u003e\n    \u003ctr\u003e\n      \u003cth\u003e4\u003c/th\u003e\n      \u003ctd\u003e5.33\u003c/td\u003e\n      \u003ctd\u003e36.2\u003c/td\u003e\n    \u003c/tr\u003e\n  \u003c/tbody\u003e\n\u003c/table\u003e\n\u003c/div\u003e",
                        "text/plain": "      x     y\n0  4.98  24.0\n1  9.14  21.6\n2  4.03  34.7\n3  2.94  33.4\n4  5.33  36.2"
                    },
                    "execution_count": 36,
                    "metadata": {},
                    "output_type": "execute_result"
                }
            ],
            "source": [
                "# Load the data from the csv file\n",
                "df = pd.read_csv(\"dataset.csv\")\n",
                "\n",
                "# Take a quick look at the data\n",
                "df.head()\n",
                ""
            ]
        },
        {
            "cell_type": "code",
            "execution_count": 37,
            "metadata": {},
            "outputs": [],
            "source": [
                "# Use the values of column x as the predictor variable\n",
                "x = df.drop('y',axis=1).values\n",
                "\n",
                "# Use the values of column y as the response variable\n",
                "y = df['y'].values\n",
                ""
            ]
        },
        {
            "cell_type": "code",
            "execution_count": 38,
            "metadata": {},
            "outputs": [
                {
                    "data": {
                        "text/plain": "array([[ 4.98],\n       [ 9.14],\n       [ 4.03],\n       [ 2.94],\n       [ 5.33],\n       [ 5.21],\n       [12.43],\n       [19.15],\n       [29.93],\n       [17.1 ],\n       [20.45],\n       [13.27],\n       [15.71],\n       [ 8.26],\n       [10.26],\n       [ 8.47],\n       [ 6.58],\n       [14.67],\n       [11.69],\n       [11.28],\n       [21.02],\n       [13.83],\n       [18.72],\n       [19.88],\n       [16.3 ],\n       [16.51],\n       [14.81]])"
                    },
                    "execution_count": 38,
                    "metadata": {},
                    "output_type": "execute_result"
                }
            ],
            "source": [
                "x"
            ]
        },
        {
            "cell_type": "code",
            "execution_count": 39,
            "metadata": {},
            "outputs": [
                {
                    "data": {
                        "text/plain": "array([24. , 21.6, 34.7, 33.4, 36.2, 28.7, 22.9, 27.1, 16.5, 18.9, 15. ,\n       18.9, 21.7, 20.4, 18.2, 19.9, 23.1, 17.5, 20.2, 18.2, 13.6, 19.6,\n       15.2, 14.5, 15.6, 13.9, 16.6])"
                    },
                    "execution_count": 39,
                    "metadata": {},
                    "output_type": "execute_result"
                }
            ],
            "source": [
                "y"
            ]
        },
        {
            "cell_type": "code",
            "execution_count": 40,
            "metadata": {},
            "outputs": [],
            "source": [
                "### edTest(test_split) ###\n",
                "\n",
                "# Split the data into train and test splits\n",
                "# Set aside 25% for testing with a random state of 1\n",
                "x_train, x_test, y_train, y_test = train_test_split(x, y, train_size=0.75, random_state=1)\n",
                ""
            ]
        },
        {
            "cell_type": "code",
            "execution_count": 41,
            "metadata": {},
            "outputs": [],
            "source": [
                "# Create an empty list to store test MSEs\n",
                "test_error = []\n",
                ""
            ]
        },
        {
            "attachments": {},
            "cell_type": "markdown",
            "metadata": {},
            "source": [
                "### Linear Regression"
            ]
        },
        {
            "cell_type": "code",
            "execution_count": 42,
            "metadata": {},
            "outputs": [],
            "source": [
                "### edTest(test_linear_mse) ###\n",
                "\n",
                "# Initialize a simple Linear Regression model\n",
                "model = LinearRegression()\n",
                "\n",
                "# Fit the model on the train data\n",
                "model.fit(x_train,y_train)\n",
                "\n",
                "# Predict using the trained model on the test data\n",
                "y_pred = model.predict(x_test)\n",
                "\n",
                "# Compute the MSE of the test predictions\n",
                "mse = mean_squared_error(y_test,y_pred)\n",
                "\n",
                "# Append the error to the list initialized above\n",
                "test_error.append(mse)\n",
                ""
            ]
        },
        {
            "attachments": {},
            "cell_type": "markdown",
            "metadata": {},
            "source": [
                "### Polynomial Regression"
            ]
        },
        {
            "cell_type": "code",
            "execution_count": 43,
            "metadata": {},
            "outputs": [],
            "source": [
                "### edTest(test_poly_mse) ###\n",
                "# Initialize a list of degree values to create polynomial features\n",
                "degree_list = [2,5]\n",
                "\n",
                "# Run a for loop through the degrees of the polynomial\n",
                "for d in degree_list:\n",
                "    \n",
                "    # Compute the polynomial features for the train data, for the current degree\n",
                "    X_train = PolynomialFeatures(degree=d).fit_transform(x_train)\n",
                "    \n",
                "    # Compute the polynomial features for the test data, for the current degree\n",
                "    X_test = PolynomialFeatures(degree=d).fit_transform(x_test)\n",
                "    \n",
                "    # Initialize a linear regression model\n",
                "    lreg = LinearRegression()\n",
                "    \n",
                "    # Fit the linear model on the transformed train data\n",
                "    lreg.fit(X_train, y_train)\n",
                "    \n",
                "    # Predict using the trained model on the test data\n",
                "    y_pred = lreg.predict(X_test)\n",
                "    \n",
                "    # Compute the MSE of the test predictions\n",
                "    mse = mean_squared_error(y_test,y_pred)\n",
                "\n",
                "    # Append the error to the list initialized above\n",
                "    test_error.append(mse)\n",
                ""
            ]
        },
        {
            "attachments": {},
            "cell_type": "markdown",
            "metadata": {},
            "source": [
                "### kNN Regression"
            ]
        },
        {
            "cell_type": "code",
            "execution_count": 44,
            "metadata": {},
            "outputs": [],
            "source": [
                "### edTest(test_knn_mse) ###\n",
                "\n",
                "# Initialize a list of k values to specify the number of neighbors\n",
                "knn_list = [1,20]\n",
                "\n",
                "# Loop through the k values from the list defined above\n",
                "for i in knn_list:\n",
                "    \n",
                "    # Initialize a kNN model with the current k value\n",
                "    model = KNeighborsRegressor(n_neighbors=int(i))\n",
                "    \n",
                "    # Fit the model on the train data\n",
                "    model.fit(x_train,y_train)\n",
                "    \n",
                "    # Predict using the trained model on the test data\n",
                "    y_pred = model.predict(x_test)\n",
                "    \n",
                "    # Compute the MSE of the test predictions\n",
                "    mse = mean_squared_error(y_test,y_pred)\n",
                "\n",
                "    # Append the error to the list initialized above\n",
                "    test_error.append(mse)\n",
                "    "
            ]
        },
        {
            "cell_type": "code",
            "execution_count": 45,
            "metadata": {},
            "outputs": [
                {
                    "name": "stdout",
                    "output_type": "stream",
                    "text": "+--------------------------------+-------+\n|             Model              |  MSE  |\n+--------------------------------+-------+\n|       Linear Regression        | 13.58 |\n| Polynomial Model with Degree 2 |  5.01 |\n| Polynomial Model with Degree 5 | 92.27 |\n|       KNN Model with k=1       | 70.56 |\n|      KNN Model with k=20       | 47.26 |\n+--------------------------------+-------+\n"
                }
            ],
            "source": [
                "# Helper code to visualize the MSE of the 5 models \n",
                "pt = PrettyTable()\n",
                "pt.field_names = [\"Model\",\"MSE\"]\n",
                "pt.add_row([\"Linear Regression\", round(test_error[0],2)])\n",
                "pt.add_row([\"Polynomial Model with Degree 2\", round(test_error[1],2)])\n",
                "pt.add_row([\"Polynomial Model with Degree 5\", round(test_error[2],2)])\n",
                "pt.add_row([\"KNN Model with k=1\", round(test_error[3],2)])\n",
                "pt.add_row([\"KNN Model with k=20\", round(test_error[4],2)])\n",
                "print(pt)\n",
                ""
            ]
        },
        {
            "attachments": {},
            "cell_type": "markdown",
            "metadata": {},
            "source": [
                ""
            ]
        }
    ]
}
