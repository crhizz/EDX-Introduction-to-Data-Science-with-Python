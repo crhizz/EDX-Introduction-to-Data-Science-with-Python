{
 "cells": [
  {
   "cell_type": "markdown",
   "id": "2f4f09ac-0d0b-4d83-bd09-007809380f30",
   "metadata": {},
   "source": [
    "# PRE READING"
   ]
  },
  {
   "cell_type": "markdown",
   "id": "32dff3c9-dcb3-42de-a5c7-c48c6d5505f4",
   "metadata": {},
   "source": [
    "### In An Introduction to Statistical Learning External link, 2nd edition, read the following sections:\n",
    "\n",
    "### Section 5.1.1 Validation Set Approach"
   ]
  },
  {
   "cell_type": "markdown",
   "id": "caab8a40-9c41-4a43-a8d9-3604d967940a",
   "metadata": {},
   "source": [
    "# Exercise: Model Selection"
   ]
  },
  {
   "cell_type": "code",
   "execution_count": 1,
   "id": "833f0830-2050-4b9e-b3e2-356acaca75ca",
   "metadata": {},
   "outputs": [],
   "source": [
    "# Import necessary libraries\n",
    "import operator\n",
    "%matplotlib inline\n",
    "import numpy as np\n",
    "import pandas as pd\n",
    "import matplotlib.pyplot as plt\n",
    "from prettytable import PrettyTable\n",
    "from sklearn.metrics import mean_squared_error\n",
    "from sklearn.neighbors import KNeighborsRegressor\n",
    "from sklearn.linear_model import LinearRegression\n",
    "from sklearn.model_selection import train_test_split\n",
    "from sklearn.preprocessing import PolynomialFeatures\n"
   ]
  },
  {
   "cell_type": "code",
   "execution_count": 2,
   "id": "b0317430-902c-441d-a500-60fe4339e1f5",
   "metadata": {},
   "outputs": [
    {
     "data": {
      "text/html": [
       "<div>\n",
       "<style scoped>\n",
       "    .dataframe tbody tr th:only-of-type {\n",
       "        vertical-align: middle;\n",
       "    }\n",
       "\n",
       "    .dataframe tbody tr th {\n",
       "        vertical-align: top;\n",
       "    }\n",
       "\n",
       "    .dataframe thead th {\n",
       "        text-align: right;\n",
       "    }\n",
       "</style>\n",
       "<table border=\"1\" class=\"dataframe\">\n",
       "  <thead>\n",
       "    <tr style=\"text-align: right;\">\n",
       "      <th></th>\n",
       "      <th>x</th>\n",
       "      <th>y</th>\n",
       "    </tr>\n",
       "  </thead>\n",
       "  <tbody>\n",
       "    <tr>\n",
       "      <th>0</th>\n",
       "      <td>4.98</td>\n",
       "      <td>24.0</td>\n",
       "    </tr>\n",
       "    <tr>\n",
       "      <th>1</th>\n",
       "      <td>9.14</td>\n",
       "      <td>21.6</td>\n",
       "    </tr>\n",
       "    <tr>\n",
       "      <th>2</th>\n",
       "      <td>4.03</td>\n",
       "      <td>34.7</td>\n",
       "    </tr>\n",
       "    <tr>\n",
       "      <th>3</th>\n",
       "      <td>2.94</td>\n",
       "      <td>33.4</td>\n",
       "    </tr>\n",
       "    <tr>\n",
       "      <th>4</th>\n",
       "      <td>5.33</td>\n",
       "      <td>36.2</td>\n",
       "    </tr>\n",
       "  </tbody>\n",
       "</table>\n",
       "</div>"
      ],
      "text/plain": [
       "      x     y\n",
       "0  4.98  24.0\n",
       "1  9.14  21.6\n",
       "2  4.03  34.7\n",
       "3  2.94  33.4\n",
       "4  5.33  36.2"
      ]
     },
     "execution_count": 2,
     "metadata": {},
     "output_type": "execute_result"
    }
   ],
   "source": [
    "# Load the data from the csv file\n",
    "df = pd.read_csv(\"dataset.csv\")\n",
    "\n",
    "# Take a quick look at the data\n",
    "df.head()"
   ]
  },
  {
   "cell_type": "code",
   "execution_count": 3,
   "id": "cb6c7022-c12e-41a0-a716-6e11c4529cd2",
   "metadata": {},
   "outputs": [],
   "source": [
    "# Use the values of column x as the predictor variable\n",
    "x = df[['x']].values\n",
    "\n",
    "# Use the values of column y as the response variable\n",
    "y = df['y'].values\n"
   ]
  },
  {
   "cell_type": "code",
   "execution_count": 4,
   "id": "78ae4243-825e-4bfb-82cc-aeaf58b85f78",
   "metadata": {},
   "outputs": [
    {
     "data": {
      "text/plain": [
       "array([[ 4.98],\n",
       "       [ 9.14],\n",
       "       [ 4.03],\n",
       "       [ 2.94],\n",
       "       [ 5.33],\n",
       "       [ 5.21],\n",
       "       [12.43],\n",
       "       [19.15],\n",
       "       [29.93],\n",
       "       [17.1 ],\n",
       "       [20.45],\n",
       "       [13.27],\n",
       "       [15.71],\n",
       "       [ 8.26],\n",
       "       [10.26],\n",
       "       [ 8.47],\n",
       "       [ 6.58],\n",
       "       [14.67],\n",
       "       [11.69],\n",
       "       [11.28],\n",
       "       [21.02],\n",
       "       [13.83],\n",
       "       [18.72],\n",
       "       [19.88],\n",
       "       [16.3 ],\n",
       "       [16.51],\n",
       "       [14.81]])"
      ]
     },
     "execution_count": 4,
     "metadata": {},
     "output_type": "execute_result"
    }
   ],
   "source": [
    "x"
   ]
  },
  {
   "cell_type": "code",
   "execution_count": 5,
   "id": "03036b08-ce4c-430d-a427-1f5fa99b0f49",
   "metadata": {},
   "outputs": [
    {
     "data": {
      "text/plain": [
       "array([24. , 21.6, 34.7, 33.4, 36.2, 28.7, 22.9, 27.1, 16.5, 18.9, 15. ,\n",
       "       18.9, 21.7, 20.4, 18.2, 19.9, 23.1, 17.5, 20.2, 18.2, 13.6, 19.6,\n",
       "       15.2, 14.5, 15.6, 13.9, 16.6])"
      ]
     },
     "execution_count": 5,
     "metadata": {},
     "output_type": "execute_result"
    }
   ],
   "source": [
    "y"
   ]
  },
  {
   "cell_type": "code",
   "execution_count": 6,
   "id": "e609b85c-89ac-416f-b37a-3334813da404",
   "metadata": {},
   "outputs": [],
   "source": [
    "### edTest(test_split) ###\n",
    "\n",
    "# Split the data into train and test splits\n",
    "# Set aside 25% for testing with a random state of 1\n",
    "x_train, x_test, y_train, y_test = train_test_split(x, y, train_size=0.75, random_state=1)\n"
   ]
  },
  {
   "cell_type": "code",
   "execution_count": 7,
   "id": "9847680b-238f-4d9a-9f42-748937638b59",
   "metadata": {},
   "outputs": [],
   "source": [
    "# Create an empty list to store test MSEs\n",
    "test_error = []\n"
   ]
  },
  {
   "cell_type": "code",
   "execution_count": 8,
   "id": "41ce247b-d631-4c13-8a1c-36106be4dccd",
   "metadata": {},
   "outputs": [],
   "source": [
    "### edTest(test_linear_mse) ###\n",
    "\n",
    "# Initialize a simple Linear Regression model\n",
    "model = LinearRegression()\n",
    "\n",
    "# Fit the model on the train data\n",
    "model.fit(x_train,y_train)\n",
    "\n",
    "# Predict using the trained model on the test data\n",
    "y_pred = model.predict(x_test)\n",
    "\n",
    "# Compute the MSE of the test predictions\n",
    "mse = mean_squared_error(y_test,y_pred)\n",
    "\n",
    "# Append the error to the list initialized above\n",
    "test_error.append(mse)\n"
   ]
  },
  {
   "cell_type": "code",
   "execution_count": 9,
   "id": "6e17f1b0-62eb-40d3-92bc-c19b6c1e87a1",
   "metadata": {},
   "outputs": [],
   "source": [
    "### edTest(test_poly_mse) ###\n",
    "# Initialize a list of degree values to create polynomial features\n",
    "degree_list = [2,5]\n",
    "\n",
    "# Run a for loop through the degrees of the polynomial\n",
    "for d in degree_list:\n",
    "    \n",
    "    # Compute the polynomial features for the train data, for the current degree\n",
    "    X_train = PolynomialFeatures(degree=d).fit_transform(x_train)\n",
    "    \n",
    "    # Compute the polynomial features for the test data, for the current degree\n",
    "    X_test = PolynomialFeatures(degree=d).fit_transform(x_test)\n",
    "    \n",
    "    # Initialize a linear regression model\n",
    "    lreg = LinearRegression()\n",
    "    \n",
    "    # Fit the linear model on the transformed train data\n",
    "    lreg.fit(X_train, y_train)\n",
    "    \n",
    "    # Predict using the trained model on the test data\n",
    "    y_pred = lreg.predict(X_test)\n",
    "    \n",
    "    # Compute the MSE of the test predictions\n",
    "    mse = mean_squared_error(y_test,y_pred)\n",
    "\n",
    "    # Append the error to the list initialized above\n",
    "    test_error.append(mse)\n"
   ]
  },
  {
   "cell_type": "code",
   "execution_count": 10,
   "id": "aa7c0f34-1077-4e89-84f7-f28daac094a1",
   "metadata": {},
   "outputs": [],
   "source": [
    "### edTest(test_knn_mse) ###\n",
    "\n",
    "# Initialize a list of k values to specify the number of neighbors\n",
    "knn_list = [1,20]\n",
    "\n",
    "# Loop through the k values from the list defined above\n",
    "for i in knn_list:\n",
    "    \n",
    "    # Initialize a kNN model with the current k value\n",
    "    model = KNeighborsRegressor(n_neighbors=int(i))\n",
    "    \n",
    "    # Fit the model on the train data\n",
    "    model.fit(x_train,y_train)\n",
    "    \n",
    "    # Predict using the trained model on the test data\n",
    "    y_pred = model.predict(x_test)\n",
    "    \n",
    "    # Compute the MSE of the test predictions\n",
    "    mse = mean_squared_error(y_test,y_pred)\n",
    "\n",
    "    # Append the error to the list initialized above\n",
    "    test_error.append(mse)\n",
    "    "
   ]
  },
  {
   "cell_type": "code",
   "execution_count": 11,
   "id": "0145d766-25cf-4aee-8961-5f648d0b3d82",
   "metadata": {},
   "outputs": [
    {
     "name": "stdout",
     "output_type": "stream",
     "text": [
      "+--------------------------------+-------+\n",
      "|             Model              |  MSE  |\n",
      "+--------------------------------+-------+\n",
      "|       Linear Regression        | 13.58 |\n",
      "| Polynomial Model with Degree 2 |  5.01 |\n",
      "| Polynomial Model with Degree 5 | 92.27 |\n",
      "|       KNN Model with k=1       | 70.56 |\n",
      "|      KNN Model with k=20       | 47.26 |\n",
      "+--------------------------------+-------+\n"
     ]
    }
   ],
   "source": [
    "# Helper code to visualize the MSE of the 5 models \n",
    "pt = PrettyTable()\n",
    "pt.field_names = [\"Model\",\"MSE\"]\n",
    "pt.add_row([\"Linear Regression\", round(test_error[0],2)])\n",
    "pt.add_row([\"Polynomial Model with Degree 2\", round(test_error[1],2)])\n",
    "pt.add_row([\"Polynomial Model with Degree 5\", round(test_error[2],2)])\n",
    "pt.add_row([\"KNN Model with k=1\", round(test_error[3],2)])\n",
    "pt.add_row([\"KNN Model with k=20\", round(test_error[4],2)])\n",
    "print(pt)\n"
   ]
  },
  {
   "cell_type": "markdown",
   "id": "9ffcf8f1-b3c9-4f57-b2ff-f251d75b9387",
   "metadata": {},
   "source": [
    "# Exercise: Model Selection using validation"
   ]
  },
  {
   "cell_type": "code",
   "execution_count": 12,
   "id": "cea0064c-f599-46ff-9ced-00114ba80687",
   "metadata": {},
   "outputs": [],
   "source": [
    "# Import necessary libraries\n",
    "import operator\n",
    "import numpy as np\n",
    "import pandas as pd\n",
    "import matplotlib.pyplot as plt\n",
    "from sklearn.metrics import mean_squared_error\n",
    "from sklearn.linear_model import LinearRegression\n",
    "from sklearn.model_selection import train_test_split\n",
    "from sklearn.preprocessing import PolynomialFeatures\n",
    "%matplotlib inline\n"
   ]
  },
  {
   "cell_type": "code",
   "execution_count": 13,
   "id": "2d89d9e7-d22a-4fa6-867d-49c1cc9a4424",
   "metadata": {},
   "outputs": [
    {
     "data": {
      "text/html": [
       "<div>\n",
       "<style scoped>\n",
       "    .dataframe tbody tr th:only-of-type {\n",
       "        vertical-align: middle;\n",
       "    }\n",
       "\n",
       "    .dataframe tbody tr th {\n",
       "        vertical-align: top;\n",
       "    }\n",
       "\n",
       "    .dataframe thead th {\n",
       "        text-align: right;\n",
       "    }\n",
       "</style>\n",
       "<table border=\"1\" class=\"dataframe\">\n",
       "  <thead>\n",
       "    <tr style=\"text-align: right;\">\n",
       "      <th></th>\n",
       "      <th>x</th>\n",
       "      <th>y</th>\n",
       "    </tr>\n",
       "  </thead>\n",
       "  <tbody>\n",
       "    <tr>\n",
       "      <th>0</th>\n",
       "      <td>4.98</td>\n",
       "      <td>24.0</td>\n",
       "    </tr>\n",
       "    <tr>\n",
       "      <th>1</th>\n",
       "      <td>9.14</td>\n",
       "      <td>21.6</td>\n",
       "    </tr>\n",
       "    <tr>\n",
       "      <th>2</th>\n",
       "      <td>4.03</td>\n",
       "      <td>34.7</td>\n",
       "    </tr>\n",
       "    <tr>\n",
       "      <th>3</th>\n",
       "      <td>2.94</td>\n",
       "      <td>33.4</td>\n",
       "    </tr>\n",
       "    <tr>\n",
       "      <th>4</th>\n",
       "      <td>5.33</td>\n",
       "      <td>36.2</td>\n",
       "    </tr>\n",
       "  </tbody>\n",
       "</table>\n",
       "</div>"
      ],
      "text/plain": [
       "      x     y\n",
       "0  4.98  24.0\n",
       "1  9.14  21.6\n",
       "2  4.03  34.7\n",
       "3  2.94  33.4\n",
       "4  5.33  36.2"
      ]
     },
     "execution_count": 13,
     "metadata": {},
     "output_type": "execute_result"
    }
   ],
   "source": [
    "# Read the file \"dataset.csv\" as a Pandas dataframe\n",
    "df = pd.read_csv(\"dataset.csv\")\n",
    "\n",
    "# Take a quick look at the dataset\n",
    "df.head()\n"
   ]
  },
  {
   "cell_type": "code",
   "execution_count": 14,
   "id": "9259253d-2988-4adb-b75e-16bb0fb04f28",
   "metadata": {},
   "outputs": [],
   "source": [
    "# Assign the values of the x and y column values to the \n",
    "# predictor and response variables\n",
    "x = df[['x']].values\n",
    "y = df.y.values\n"
   ]
  },
  {
   "cell_type": "code",
   "execution_count": 15,
   "id": "a4ed496c-af39-44e5-b898-a795e6399814",
   "metadata": {},
   "outputs": [],
   "source": [
    "### edTest(test_random) ###\n",
    "\n",
    "# Split the dataset into train and validation sets with 75% training set\n",
    "# Set random_state=1\n",
    "x_train, x_val, y_train, y_val = train_test_split(x,y,train_size=0.75,random_state=1)\n"
   ]
  },
  {
   "cell_type": "code",
   "execution_count": 16,
   "id": "53136516-eef6-4d55-a968-9eb8071701b6",
   "metadata": {},
   "outputs": [],
   "source": [
    "### edTest(test_regression) ###\n",
    "\n",
    "# To iterate over the range, select the maximum degree of the polynomial\n",
    "maxdeg = 10\n",
    "\n",
    "# Create two empty lists to store training and validation MSEs\n",
    "training_error, validation_error = [],[]\n",
    "\n",
    "# Loop through the degrees of the polynomial to create different models\n",
    "for d in range(1, maxdeg+1):\n",
    "    \n",
    "    # Compute the polynomial features for the current degree \n",
    "    # for the train set\n",
    "    x_poly_train = PolynomialFeatures(degree = d).fit_transform(x_train)\n",
    "\n",
    "    # Compute the polynomial features for the validation set\n",
    "    x_poly_val = PolynomialFeatures(degree = d).fit_transform(x_val)\n",
    "    \n",
    "    # Initialize a linear regression model, \n",
    "    # Note: Sklearn's PolynomialFeatures adds a bias column by default.\n",
    "    # Set fit_intercept = False when initializing the linear regression\n",
    "    # model to avoid having 2 intercepts.\n",
    "    lreg = LinearRegression(fit_intercept=False)\n",
    "\n",
    "    # Fit the model on the train data\n",
    "    lreg.fit(x_poly_train, y_train)\n",
    "    \n",
    "    # Use the trained model to predict on the transformed train data\n",
    "    y_train_pred = lreg.predict(x_poly_train)\n",
    "\n",
    "    # Use the trained model to predict on the transformed validation data\n",
    "    y_val_pred = lreg.predict(x_poly_val)\n",
    "    \n",
    "    # Compute the MSE on the train predictions\n",
    "    training_error.append(mean_squared_error(y_train,y_train_pred))\n",
    "\n",
    "    # Compute the MSE on the validation predictions\n",
    "    validation_error.append(mean_squared_error(y_val,y_val_pred))\n",
    "    "
   ]
  },
  {
   "cell_type": "code",
   "execution_count": 17,
   "id": "8f53e402-72d3-4342-b657-01aeaff309fe",
   "metadata": {},
   "outputs": [
    {
     "data": {
      "text/plain": [
       "[21.555301976313565,\n",
       " 16.383592227945687,\n",
       " 12.300371842351161,\n",
       " 12.291515611533196,\n",
       " 11.114581634180563,\n",
       " 9.678267770224398,\n",
       " 9.25406672555098,\n",
       " 8.971395619680793,\n",
       " 8.5467039056627,\n",
       " 8.234624042703452]"
      ]
     },
     "execution_count": 17,
     "metadata": {},
     "output_type": "execute_result"
    }
   ],
   "source": [
    "training_error"
   ]
  },
  {
   "cell_type": "code",
   "execution_count": 18,
   "id": "1c7fae90-eb9d-4587-bcd7-7af8d88a60d4",
   "metadata": {},
   "outputs": [
    {
     "data": {
      "text/plain": [
       "[13.581688275061781,\n",
       " 5.011790297235175,\n",
       " 21.685716252147536,\n",
       " 20.47099643914223,\n",
       " 92.27168006477974,\n",
       " 229.11041018694686,\n",
       " 655.0320123570054,\n",
       " 1748.1553055308543,\n",
       " 4195.806117593716,\n",
       " 8197.222984833521]"
      ]
     },
     "execution_count": 18,
     "metadata": {},
     "output_type": "execute_result"
    }
   ],
   "source": [
    "validation_error"
   ]
  },
  {
   "cell_type": "code",
   "execution_count": 19,
   "id": "469be54d-5593-418e-96f6-43a4c3176f68",
   "metadata": {},
   "outputs": [
    {
     "name": "stdout",
     "output_type": "stream",
     "text": [
      "The best degree of the model is 2\n"
     ]
    }
   ],
   "source": [
    "### edTest(test_best_degree) ###\n",
    "\n",
    "# Helper code to compute the best degree, which is the model \n",
    "# with the lowest validation error\n",
    "min_mse = min(validation_error)\n",
    "best_degree = validation_error.index(min_mse)+1\n",
    "\n",
    "# Print the degree of the best model computed above\n",
    "print(\"The best degree of the model is\",best_degree)\n"
   ]
  },
  {
   "cell_type": "code",
   "execution_count": 21,
   "id": "f81224d6-cd76-4f3e-a95e-10e306ad829b",
   "metadata": {},
   "outputs": [
    {
     "name": "stderr",
     "output_type": "stream",
     "text": [
      "No artists with labels found to put in legend.  Note that artists whose label start with an underscore are ignored when legend() is called with no argument.\n"
     ]
    },
    {
     "data": {
      "image/png": "[encoded data removed]",
      "text/plain": [
       "<Figure size 640x480 with 1 Axes>"
      ]
     },
     "metadata": {},
     "output_type": "display_data"
    }
   ],
   "source": [
    "# Plot the errors as a function of increasing d value to visualise the training \n",
    "# and testing errors\n",
    "fig, ax = plt.subplots()\n",
    "\n",
    "# Plot the training error with labels\n",
    "ax.plot(range(maxdeg),training_error, color='#FF7E79', alpha=0.4)\n",
    "\n",
    "# Plot the validation error with labels\n",
    "ax.plot(range(maxdeg),validation_error, color='#007D66', alpha=0.4)\n",
    "\n",
    "# Set the plot labels and legends\n",
    "ax.set_xlabel('Degree of Polynomial')\n",
    "ax.set_xticks(range(1, maxdeg+1))\n",
    "ax.set_ylabel('Mean Squared Error')\n",
    "ax.legend(loc = 'best')\n",
    "ax.set_yscale('log')\n",
    "plt.show();\n"
   ]
  },
  {
   "cell_type": "markdown",
   "id": "f9c30986-ad29-4178-8752-649253679638",
   "metadata": {},
   "source": [
    "# Exercise: Model Selection using Cross-validation"
   ]
  },
  {
   "cell_type": "code",
   "execution_count": 150,
   "id": "73ae0986-1b91-4efb-b45b-d11d71448e11",
   "metadata": {},
   "outputs": [],
   "source": [
    "# Import necessary libraries\n",
    "%matplotlib inline\n",
    "import operator\n",
    "import numpy as np\n",
    "import pandas as pd\n",
    "import matplotlib.pyplot as plt\n",
    "from sklearn.metrics import mean_squared_error\n",
    "from sklearn.linear_model import LinearRegression\n",
    "from sklearn.model_selection import cross_validate\n",
    "from sklearn.model_selection import train_test_split\n",
    "from sklearn.preprocessing import PolynomialFeatures\n"
   ]
  },
  {
   "cell_type": "code",
   "execution_count": 151,
   "id": "79ad57c8-8792-4d4b-a7b1-b1c81b47f937",
   "metadata": {},
   "outputs": [],
   "source": [
    "# Read the file \"dataset.csv\" as a Pandas dataframe \n",
    "df = pd.read_csv(\"dataset.csv\")\n"
   ]
  },
  {
   "cell_type": "code",
   "execution_count": 152,
   "id": "5077f387-03af-4b21-993f-b1121e8f0c94",
   "metadata": {},
   "outputs": [],
   "source": [
    "# Assign the values of column x as the predictor\n",
    "x = df[['x']].values\n",
    "\n",
    "# Assign the values of column y as the response variable\n",
    "y = df.y.values\n"
   ]
  },
  {
   "cell_type": "code",
   "execution_count": 153,
   "id": "9641a9b6-3c6f-4b4b-8d13-8df30d1fef8e",
   "metadata": {},
   "outputs": [],
   "source": [
    "### edTest(test_random) ###\n",
    "# Split the data into train and validation sets with 75% for training \n",
    "# and with a random_state=1\n",
    "x_train, x_val, y_train, y_val = train_test_split(x,y,train_size=0.75,random_state=1)\n"
   ]
  },
  {
   "cell_type": "code",
   "execution_count": 160,
   "id": "4538703f-5a81-4ba3-b9e9-1a0083562b34",
   "metadata": {},
   "outputs": [],
   "source": [
    "### edTest(test_regression) ###\n",
    "\n",
    "# To iterate over the range, select the maximum degree of the polynomial\n",
    "maxdeg = 20\n",
    "\n",
    "# Create three empty lists to store training, validation and cross-validation MSEs\n",
    "training_error, validation_error, cross_validation_error = [],[],[]\n",
    "\n",
    "# Loop through the degrees of the polynomial\n",
    "for d in range(0,maxdeg):\n",
    "    \n",
    "    # Compute the polynomial features for the entire data\n",
    "    x_poly = PolynomialFeatures(degree=d).fit_transform(x)\n",
    "\n",
    "    # Compute the polynomial features for the train data\n",
    "    x_poly_train = PolynomialFeatures(degree=d).fit_transform(x_train)\n",
    "\n",
    "    # Compute the polynomial features for the validation data\n",
    "    x_poly_val = PolynomialFeatures(degree=d).fit_transform(x_val)\n",
    "\n",
    "    # Initialize a Linear Regression object (set fit_intercept to False since PolynomialFeatures adds an intercept by default)\n",
    "    lreg = LinearRegression(fit_intercept=False)\n",
    "  \n",
    "    # Fit model on the training set\n",
    "    lreg.fit(x_poly_train,y_train)\n",
    "\n",
    "    # Predict on the training data\n",
    "    y_train_pred = lreg.predict(x_poly_train)\n",
    "\n",
    "    # Predict on the validation set\n",
    "    y_val_pred = lreg.predict(x_poly_val)\n",
    "    \n",
    "    # Compute the mse on the train data\n",
    "    training_error.append(mean_squared_error(y_train,y_train_pred))\n",
    "\n",
    "    # Compute the mse on the validation data\n",
    "    validation_error.append(mean_squared_error(y_val,y_val_pred))\n",
    "    \n",
    "    # Perform cross-validation on the entire data with 10 folds and \n",
    "    # get the mse_scores\n",
    "    mse_score = cross_validate(lreg,x_poly,y,scoring=\"neg_mean_squared_error\",cv=10,return_train_score=True)\n",
    "    \n",
    "    # Compute the mean of the cross validation error and store in list \n",
    "    # Remember to take into account the sign of the MSE metric returned by the cross_validate function \n",
    "    cross_validation_error.append(abs(mse_score['test_score'].mean()))\n",
    "    "
   ]
  },
  {
   "cell_type": "code",
   "execution_count": 161,
   "id": "c51d3cab-9dee-4bd9-9afd-80ffe4e51f2a",
   "metadata": {},
   "outputs": [
    {
     "data": {
      "text/plain": [
       "[43.355491194444426,\n",
       " 29.460389901133293,\n",
       " 17.21896089024453,\n",
       " 58.40062795623313,\n",
       " 172.6405845410768,\n",
       " 3212.496629985473,\n",
       " 13680.466929158498,\n",
       " 180.40610409281237,\n",
       " 90386.61403605083,\n",
       " 99989.19181863114,\n",
       " 798304.0191346064,\n",
       " 27517109.893644743,\n",
       " 118870221610.0032,\n",
       " 1586133234423.3354,\n",
       " 12410861727395.162,\n",
       " 41493469177746.234,\n",
       " 106079834956568.31,\n",
       " 365583952221304.1,\n",
       " 1530233914464986.5,\n",
       " 868349098578077.0]"
      ]
     },
     "execution_count": 161,
     "metadata": {},
     "output_type": "execute_result"
    }
   ],
   "source": [
    "cross_validation_error"
   ]
  },
  {
   "cell_type": "code",
   "execution_count": 162,
   "id": "3523b7c2-c403-4bb3-b6d4-ac0110a8139e",
   "metadata": {},
   "outputs": [
    {
     "data": {
      "text/plain": [
       "[34.83627500000001,\n",
       " 21.555301976313565,\n",
       " 16.383592227945687,\n",
       " 12.300371842351161,\n",
       " 12.291515611533196,\n",
       " 11.114581634180563,\n",
       " 9.678267770224398,\n",
       " 9.25406672555098,\n",
       " 8.971395619680793,\n",
       " 8.5467039056627,\n",
       " 8.234624042703452,\n",
       " 11.313075748071237,\n",
       " 20.975777576146854,\n",
       " 149.73630577985688,\n",
       " 181.51528498808383,\n",
       " 202.2042782957652,\n",
       " 257.68572245758384,\n",
       " 268.71513599265165,\n",
       " 277.1656298658596,\n",
       " 283.8241753589349]"
      ]
     },
     "execution_count": 162,
     "metadata": {},
     "output_type": "execute_result"
    }
   ],
   "source": [
    "training_error"
   ]
  },
  {
   "cell_type": "code",
   "execution_count": 163,
   "id": "b74ba709-cf9c-4a86-b40a-051f4e4ba1e8",
   "metadata": {},
   "outputs": [
    {
     "name": "stdout",
     "output_type": "stream",
     "text": [
      "The best degree of the model using validation is 2\n",
      "The best degree of the model using cross-validation is 2\n"
     ]
    }
   ],
   "source": [
    "### edTest(test_best_degree) ###\n",
    "\n",
    "# Get the best degree associated with the lowest validation error\n",
    "min_mse = min(validation_error)\n",
    "best_degree = validation_error.index(min_mse)\n",
    "\n",
    "\n",
    "# Get the best degree associated with the lowest cross-validation error\n",
    "min_cross_val_mse = min(cross_validation_error)\n",
    "best_cross_val_degree = cross_validation_error.index(min_cross_val_mse)\n",
    "\n",
    "# Print the values\n",
    "print(\"The best degree of the model using validation is\",best_degree)\n",
    "print(\"The best degree of the model using cross-validation is\",best_cross_val_degree)\n"
   ]
  },
  {
   "cell_type": "code",
   "execution_count": 164,
   "id": "5c0099e3-fc36-43ec-adde-733f2e0e6c85",
   "metadata": {},
   "outputs": [
    {
     "data": {
      "text/plain": [
       "[47.25522499999998,\n",
       " 13.581688275061781,\n",
       " 5.011790297235175,\n",
       " 21.685716252147536,\n",
       " 20.47099643914223,\n",
       " 92.27168006477974,\n",
       " 229.11041018694686,\n",
       " 655.0320123570054,\n",
       " 1748.1553055308543,\n",
       " 4195.806117593716,\n",
       " 8197.222984833521,\n",
       " 34543.07715851317,\n",
       " 99025.11289649573,\n",
       " 48927.78054440452,\n",
       " 52318.54818336374,\n",
       " 107798.11883482458,\n",
       " 433350.7218832919,\n",
       " 656031.3970015424,\n",
       " 1035829.5374607806,\n",
       " 1733372.5712735604]"
      ]
     },
     "execution_count": 164,
     "metadata": {},
     "output_type": "execute_result"
    }
   ],
   "source": [
    "validation_error"
   ]
  },
  {
   "cell_type": "code",
   "execution_count": 165,
   "id": "e46665bd-9f72-4dd1-b1f6-31a445140989",
   "metadata": {},
   "outputs": [
    {
     "data": {
      "image/png": "[encoded data removed]",
      "text/plain": [
       "<Figure size 1600x800 with 2 Axes>"
      ]
     },
     "metadata": {},
     "output_type": "display_data"
    }
   ],
   "source": [
    "# Plot the errors as a function of increasing d value to visualise the training and validation errors\n",
    "fig, ax = plt.subplots(1,2, figsize=(16,8))\n",
    "\n",
    "# Plot the training error with labels\n",
    "ax[0].plot(range(maxdeg), np.log(training_error), label = 'Training error', linewidth=3, color='#FF7E79', alpha=0.4)\n",
    "\n",
    "# Plot the validation error with labels\n",
    "ax[0].plot(range(maxdeg), np.log(validation_error), label = 'Validation error', linewidth=3, color=\"#007D66\", alpha=0.4)\n",
    "\n",
    "# Plot the training error with labels\n",
    "ax[1].plot(range(maxdeg), np.log(training_error), label = 'Training error', linewidth=3, color='#FF7E79', alpha=0.4)\n",
    "\n",
    "# Plot the cross-validation error with labels\n",
    "ax[1].plot(range(maxdeg), np.log(cross_validation_error), label = 'Cross-Validation error', linewidth=3, color=\"#007D66\", alpha=0.4)\n",
    "\n",
    "# Set the plot labels and legends\n",
    "ax[0].set_xlabel('Degree of Polynomial', fontsize=12)\n",
    "ax[0].set_ylabel('Log Mean Squared Error', fontsize=12)\n",
    "ax[0].set_title(\"Log of validation error as a function of degree\")\n",
    "\n",
    "ax[1].set_xlabel('Degree of Polynomial', fontsize=12)\n",
    "ax[1].set_ylabel('Log Mean Squared Error', fontsize=12)\n",
    "ax[1].set_title(\"Log of CV error as a function of degree\")\n",
    "\n",
    "ax[0].legend()\n",
    "ax[1].legend()\n",
    "plt.show();\n"
   ]
  },
  {
   "cell_type": "code",
   "execution_count": null,
   "id": "d36bd8c2-58aa-4437-a368-441e0a472eae",
   "metadata": {},
   "outputs": [],
   "source": []
  },
  {
   "cell_type": "code",
   "execution_count": null,
   "id": "3cd5f98f-423e-4495-9517-3eb61dde4af9",
   "metadata": {},
   "outputs": [],
   "source": []
  }
 ],
 "metadata": {
  "kernelspec": {
   "display_name": "Python 3 (ipykernel)",
   "language": "python",
   "name": "python3"
  },
  "language_info": {
   "codemirror_mode": {
    "name": "ipython",
    "version": 3
   },
   "file_extension": ".py",
   "mimetype": "text/x-python",
   "name": "python",
   "nbconvert_exporter": "python",
   "pygments_lexer": "ipython3",
   "version": "3.11.7"
  }
 },
 "nbformat": 4,
 "nbformat_minor": 5
}
